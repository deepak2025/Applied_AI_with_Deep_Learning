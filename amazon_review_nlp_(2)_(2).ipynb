{
  "nbformat": 4,
  "nbformat_minor": 0,
  "metadata": {
    "kernelspec": {
      "display_name": "Python 2",
      "language": "python",
      "name": "python2"
    },
    "language_info": {
      "codemirror_mode": {
        "name": "ipython",
        "version": 2
      },
      "file_extension": ".py",
      "mimetype": "text/x-python",
      "name": "python",
      "nbconvert_exporter": "python",
      "pygments_lexer": "ipython2",
      "version": "2.7.16"
    },
    "colab": {
      "name": "amazon_review_nlp (2) (2).ipynb",
      "provenance": [],
      "machine_shape": "hm"
    }
  },
  "cells": [
    {
      "cell_type": "markdown",
      "metadata": {
        "id": "YSF5Urlv1zMJ",
        "colab_type": "text"
      },
      "source": [
        "### Let's Start by importing dataframe libraries"
      ]
    },
    {
      "cell_type": "code",
      "metadata": {
        "id": "NcPDIgFf1zMK",
        "colab_type": "code",
        "colab": {}
      },
      "source": [
        "import pandas as pd\n",
        "import numpy as np"
      ],
      "execution_count": 0,
      "outputs": []
    },
    {
      "cell_type": "code",
      "metadata": {
        "id": "4BMSTITR2nX3",
        "colab_type": "code",
        "outputId": "e0cf59b2-3eb7-4be3-fc45-2db6597b0677",
        "colab": {
          "resources": {
            "http://localhost:8080/nbextensions/google.colab/files.js": {
              "data": "Ly8gQ29weXJpZ2h0IDIwMTcgR29vZ2xlIExMQwovLwovLyBMaWNlbnNlZCB1bmRlciB0aGUgQXBhY2hlIExpY2Vuc2UsIFZlcnNpb24gMi4wICh0aGUgIkxpY2Vuc2UiKTsKLy8geW91IG1heSBub3QgdXNlIHRoaXMgZmlsZSBleGNlcHQgaW4gY29tcGxpYW5jZSB3aXRoIHRoZSBMaWNlbnNlLgovLyBZb3UgbWF5IG9idGFpbiBhIGNvcHkgb2YgdGhlIExpY2Vuc2UgYXQKLy8KLy8gICAgICBodHRwOi8vd3d3LmFwYWNoZS5vcmcvbGljZW5zZXMvTElDRU5TRS0yLjAKLy8KLy8gVW5sZXNzIHJlcXVpcmVkIGJ5IGFwcGxpY2FibGUgbGF3IG9yIGFncmVlZCB0byBpbiB3cml0aW5nLCBzb2Z0d2FyZQovLyBkaXN0cmlidXRlZCB1bmRlciB0aGUgTGljZW5zZSBpcyBkaXN0cmlidXRlZCBvbiBhbiAiQVMgSVMiIEJBU0lTLAovLyBXSVRIT1VUIFdBUlJBTlRJRVMgT1IgQ09ORElUSU9OUyBPRiBBTlkgS0lORCwgZWl0aGVyIGV4cHJlc3Mgb3IgaW1wbGllZC4KLy8gU2VlIHRoZSBMaWNlbnNlIGZvciB0aGUgc3BlY2lmaWMgbGFuZ3VhZ2UgZ292ZXJuaW5nIHBlcm1pc3Npb25zIGFuZAovLyBsaW1pdGF0aW9ucyB1bmRlciB0aGUgTGljZW5zZS4KCi8qKgogKiBAZmlsZW92ZXJ2aWV3IEhlbHBlcnMgZm9yIGdvb2dsZS5jb2xhYiBQeXRob24gbW9kdWxlLgogKi8KKGZ1bmN0aW9uKHNjb3BlKSB7CmZ1bmN0aW9uIHNwYW4odGV4dCwgc3R5bGVBdHRyaWJ1dGVzID0ge30pIHsKICBjb25zdCBlbGVtZW50ID0gZG9jdW1lbnQuY3JlYXRlRWxlbWVudCgnc3BhbicpOwogIGVsZW1lbnQudGV4dENvbnRlbnQgPSB0ZXh0OwogIGZvciAoY29uc3Qga2V5IG9mIE9iamVjdC5rZXlzKHN0eWxlQXR0cmlidXRlcykpIHsKICAgIGVsZW1lbnQuc3R5bGVba2V5XSA9IHN0eWxlQXR0cmlidXRlc1trZXldOwogIH0KICByZXR1cm4gZWxlbWVudDsKfQoKLy8gTWF4IG51bWJlciBvZiBieXRlcyB3aGljaCB3aWxsIGJlIHVwbG9hZGVkIGF0IGEgdGltZS4KY29uc3QgTUFYX1BBWUxPQURfU0laRSA9IDEwMCAqIDEwMjQ7Ci8vIE1heCBhbW91bnQgb2YgdGltZSB0byBibG9jayB3YWl0aW5nIGZvciB0aGUgdXNlci4KY29uc3QgRklMRV9DSEFOR0VfVElNRU9VVF9NUyA9IDMwICogMTAwMDsKCmZ1bmN0aW9uIF91cGxvYWRGaWxlcyhpbnB1dElkLCBvdXRwdXRJZCkgewogIGNvbnN0IHN0ZXBzID0gdXBsb2FkRmlsZXNTdGVwKGlucHV0SWQsIG91dHB1dElkKTsKICBjb25zdCBvdXRwdXRFbGVtZW50ID0gZG9jdW1lbnQuZ2V0RWxlbWVudEJ5SWQob3V0cHV0SWQpOwogIC8vIENhY2hlIHN0ZXBzIG9uIHRoZSBvdXRwdXRFbGVtZW50IHRvIG1ha2UgaXQgYXZhaWxhYmxlIGZvciB0aGUgbmV4dCBjYWxsCiAgLy8gdG8gdXBsb2FkRmlsZXNDb250aW51ZSBmcm9tIFB5dGhvbi4KICBvdXRwdXRFbGVtZW50LnN0ZXBzID0gc3RlcHM7CgogIHJldHVybiBfdXBsb2FkRmlsZXNDb250aW51ZShvdXRwdXRJZCk7Cn0KCi8vIFRoaXMgaXMgcm91Z2hseSBhbiBhc3luYyBnZW5lcmF0b3IgKG5vdCBzdXBwb3J0ZWQgaW4gdGhlIGJyb3dzZXIgeWV0KSwKLy8gd2hlcmUgdGhlcmUgYXJlIG11bHRpcGxlIGFzeW5jaHJvbm91cyBzdGVwcyBhbmQgdGhlIFB5dGhvbiBzaWRlIGlzIGdvaW5nCi8vIHRvIHBvbGwgZm9yIGNvbXBsZXRpb24gb2YgZWFjaCBzdGVwLgovLyBUaGlzIHVzZXMgYSBQcm9taXNlIHRvIGJsb2NrIHRoZSBweXRob24gc2lkZSBvbiBjb21wbGV0aW9uIG9mIGVhY2ggc3RlcCwKLy8gdGhlbiBwYXNzZXMgdGhlIHJlc3VsdCBvZiB0aGUgcHJldmlvdXMgc3RlcCBhcyB0aGUgaW5wdXQgdG8gdGhlIG5leHQgc3RlcC4KZnVuY3Rpb24gX3VwbG9hZEZpbGVzQ29udGludWUob3V0cHV0SWQpIHsKICBjb25zdCBvdXRwdXRFbGVtZW50ID0gZG9jdW1lbnQuZ2V0RWxlbWVudEJ5SWQob3V0cHV0SWQpOwogIGNvbnN0IHN0ZXBzID0gb3V0cHV0RWxlbWVudC5zdGVwczsKCiAgY29uc3QgbmV4dCA9IHN0ZXBzLm5leHQob3V0cHV0RWxlbWVudC5sYXN0UHJvbWlzZVZhbHVlKTsKICByZXR1cm4gUHJvbWlzZS5yZXNvbHZlKG5leHQudmFsdWUucHJvbWlzZSkudGhlbigodmFsdWUpID0+IHsKICAgIC8vIENhY2hlIHRoZSBsYXN0IHByb21pc2UgdmFsdWUgdG8gbWFrZSBpdCBhdmFpbGFibGUgdG8gdGhlIG5leHQKICAgIC8vIHN0ZXAgb2YgdGhlIGdlbmVyYXRvci4KICAgIG91dHB1dEVsZW1lbnQubGFzdFByb21pc2VWYWx1ZSA9IHZhbHVlOwogICAgcmV0dXJuIG5leHQudmFsdWUucmVzcG9uc2U7CiAgfSk7Cn0KCi8qKgogKiBHZW5lcmF0b3IgZnVuY3Rpb24gd2hpY2ggaXMgY2FsbGVkIGJldHdlZW4gZWFjaCBhc3luYyBzdGVwIG9mIHRoZSB1cGxvYWQKICogcHJvY2Vzcy4KICogQHBhcmFtIHtzdHJpbmd9IGlucHV0SWQgRWxlbWVudCBJRCBvZiB0aGUgaW5wdXQgZmlsZSBwaWNrZXIgZWxlbWVudC4KICogQHBhcmFtIHtzdHJpbmd9IG91dHB1dElkIEVsZW1lbnQgSUQgb2YgdGhlIG91dHB1dCBkaXNwbGF5LgogKiBAcmV0dXJuIHshSXRlcmFibGU8IU9iamVjdD59IEl0ZXJhYmxlIG9mIG5leHQgc3RlcHMuCiAqLwpmdW5jdGlvbiogdXBsb2FkRmlsZXNTdGVwKGlucHV0SWQsIG91dHB1dElkKSB7CiAgY29uc3QgaW5wdXRFbGVtZW50ID0gZG9jdW1lbnQuZ2V0RWxlbWVudEJ5SWQoaW5wdXRJZCk7CiAgaW5wdXRFbGVtZW50LmRpc2FibGVkID0gZmFsc2U7CgogIGNvbnN0IG91dHB1dEVsZW1lbnQgPSBkb2N1bWVudC5nZXRFbGVtZW50QnlJZChvdXRwdXRJZCk7CiAgb3V0cHV0RWxlbWVudC5pbm5lckhUTUwgPSAnJzsKCiAgY29uc3QgcGlja2VkUHJvbWlzZSA9IG5ldyBQcm9taXNlKChyZXNvbHZlKSA9PiB7CiAgICBpbnB1dEVsZW1lbnQuYWRkRXZlbnRMaXN0ZW5lcignY2hhbmdlJywgKGUpID0+IHsKICAgICAgcmVzb2x2ZShlLnRhcmdldC5maWxlcyk7CiAgICB9KTsKICB9KTsKCiAgY29uc3QgY2FuY2VsID0gZG9jdW1lbnQuY3JlYXRlRWxlbWVudCgnYnV0dG9uJyk7CiAgaW5wdXRFbGVtZW50LnBhcmVudEVsZW1lbnQuYXBwZW5kQ2hpbGQoY2FuY2VsKTsKICBjYW5jZWwudGV4dENvbnRlbnQgPSAnQ2FuY2VsIHVwbG9hZCc7CiAgY29uc3QgY2FuY2VsUHJvbWlzZSA9IG5ldyBQcm9taXNlKChyZXNvbHZlKSA9PiB7CiAgICBjYW5jZWwub25jbGljayA9ICgpID0+IHsKICAgICAgcmVzb2x2ZShudWxsKTsKICAgIH07CiAgfSk7CgogIC8vIENhbmNlbCB1cGxvYWQgaWYgdXNlciBoYXNuJ3QgcGlja2VkIGFueXRoaW5nIGluIHRpbWVvdXQuCiAgY29uc3QgdGltZW91dFByb21pc2UgPSBuZXcgUHJvbWlzZSgocmVzb2x2ZSkgPT4gewogICAgc2V0VGltZW91dCgoKSA9PiB7CiAgICAgIHJlc29sdmUobnVsbCk7CiAgICB9LCBGSUxFX0NIQU5HRV9USU1FT1VUX01TKTsKICB9KTsKCiAgLy8gV2FpdCBmb3IgdGhlIHVzZXIgdG8gcGljayB0aGUgZmlsZXMuCiAgY29uc3QgZmlsZXMgPSB5aWVsZCB7CiAgICBwcm9taXNlOiBQcm9taXNlLnJhY2UoW3BpY2tlZFByb21pc2UsIHRpbWVvdXRQcm9taXNlLCBjYW5jZWxQcm9taXNlXSksCiAgICByZXNwb25zZTogewogICAgICBhY3Rpb246ICdzdGFydGluZycsCiAgICB9CiAgfTsKCiAgaWYgKCFmaWxlcykgewogICAgcmV0dXJuIHsKICAgICAgcmVzcG9uc2U6IHsKICAgICAgICBhY3Rpb246ICdjb21wbGV0ZScsCiAgICAgIH0KICAgIH07CiAgfQoKICBjYW5jZWwucmVtb3ZlKCk7CgogIC8vIERpc2FibGUgdGhlIGlucHV0IGVsZW1lbnQgc2luY2UgZnVydGhlciBwaWNrcyBhcmUgbm90IGFsbG93ZWQuCiAgaW5wdXRFbGVtZW50LmRpc2FibGVkID0gdHJ1ZTsKCiAgZm9yIChjb25zdCBmaWxlIG9mIGZpbGVzKSB7CiAgICBjb25zdCBsaSA9IGRvY3VtZW50LmNyZWF0ZUVsZW1lbnQoJ2xpJyk7CiAgICBsaS5hcHBlbmQoc3BhbihmaWxlLm5hbWUsIHtmb250V2VpZ2h0OiAnYm9sZCd9KSk7CiAgICBsaS5hcHBlbmQoc3BhbigKICAgICAgICBgKCR7ZmlsZS50eXBlIHx8ICduL2EnfSkgLSAke2ZpbGUuc2l6ZX0gYnl0ZXMsIGAgKwogICAgICAgIGBsYXN0IG1vZGlmaWVkOiAkewogICAgICAgICAgICBmaWxlLmxhc3RNb2RpZmllZERhdGUgPyBmaWxlLmxhc3RNb2RpZmllZERhdGUudG9Mb2NhbGVEYXRlU3RyaW5nKCkgOgogICAgICAgICAgICAgICAgICAgICAgICAgICAgICAgICAgICAnbi9hJ30gLSBgKSk7CiAgICBjb25zdCBwZXJjZW50ID0gc3BhbignMCUgZG9uZScpOwogICAgbGkuYXBwZW5kQ2hpbGQocGVyY2VudCk7CgogICAgb3V0cHV0RWxlbWVudC5hcHBlbmRDaGlsZChsaSk7CgogICAgY29uc3QgZmlsZURhdGFQcm9taXNlID0gbmV3IFByb21pc2UoKHJlc29sdmUpID0+IHsKICAgICAgY29uc3QgcmVhZGVyID0gbmV3IEZpbGVSZWFkZXIoKTsKICAgICAgcmVhZGVyLm9ubG9hZCA9IChlKSA9PiB7CiAgICAgICAgcmVzb2x2ZShlLnRhcmdldC5yZXN1bHQpOwogICAgICB9OwogICAgICByZWFkZXIucmVhZEFzQXJyYXlCdWZmZXIoZmlsZSk7CiAgICB9KTsKICAgIC8vIFdhaXQgZm9yIHRoZSBkYXRhIHRvIGJlIHJlYWR5LgogICAgbGV0IGZpbGVEYXRhID0geWllbGQgewogICAgICBwcm9taXNlOiBmaWxlRGF0YVByb21pc2UsCiAgICAgIHJlc3BvbnNlOiB7CiAgICAgICAgYWN0aW9uOiAnY29udGludWUnLAogICAgICB9CiAgICB9OwoKICAgIC8vIFVzZSBhIGNodW5rZWQgc2VuZGluZyB0byBhdm9pZCBtZXNzYWdlIHNpemUgbGltaXRzLiBTZWUgYi82MjExNTY2MC4KICAgIGxldCBwb3NpdGlvbiA9IDA7CiAgICB3aGlsZSAocG9zaXRpb24gPCBmaWxlRGF0YS5ieXRlTGVuZ3RoKSB7CiAgICAgIGNvbnN0IGxlbmd0aCA9IE1hdGgubWluKGZpbGVEYXRhLmJ5dGVMZW5ndGggLSBwb3NpdGlvbiwgTUFYX1BBWUxPQURfU0laRSk7CiAgICAgIGNvbnN0IGNodW5rID0gbmV3IFVpbnQ4QXJyYXkoZmlsZURhdGEsIHBvc2l0aW9uLCBsZW5ndGgpOwogICAgICBwb3NpdGlvbiArPSBsZW5ndGg7CgogICAgICBjb25zdCBiYXNlNjQgPSBidG9hKFN0cmluZy5mcm9tQ2hhckNvZGUuYXBwbHkobnVsbCwgY2h1bmspKTsKICAgICAgeWllbGQgewogICAgICAgIHJlc3BvbnNlOiB7CiAgICAgICAgICBhY3Rpb246ICdhcHBlbmQnLAogICAgICAgICAgZmlsZTogZmlsZS5uYW1lLAogICAgICAgICAgZGF0YTogYmFzZTY0LAogICAgICAgIH0sCiAgICAgIH07CiAgICAgIHBlcmNlbnQudGV4dENvbnRlbnQgPQogICAgICAgICAgYCR7TWF0aC5yb3VuZCgocG9zaXRpb24gLyBmaWxlRGF0YS5ieXRlTGVuZ3RoKSAqIDEwMCl9JSBkb25lYDsKICAgIH0KICB9CgogIC8vIEFsbCBkb25lLgogIHlpZWxkIHsKICAgIHJlc3BvbnNlOiB7CiAgICAgIGFjdGlvbjogJ2NvbXBsZXRlJywKICAgIH0KICB9Owp9CgpzY29wZS5nb29nbGUgPSBzY29wZS5nb29nbGUgfHwge307CnNjb3BlLmdvb2dsZS5jb2xhYiA9IHNjb3BlLmdvb2dsZS5jb2xhYiB8fCB7fTsKc2NvcGUuZ29vZ2xlLmNvbGFiLl9maWxlcyA9IHsKICBfdXBsb2FkRmlsZXMsCiAgX3VwbG9hZEZpbGVzQ29udGludWUsCn07Cn0pKHNlbGYpOwo=",
              "ok": true,
              "headers": [
                [
                  "content-type",
                  "application/javascript"
                ]
              ],
              "status": 200,
              "status_text": ""
            }
          },
          "base_uri": "https://localhost:8080/",
          "height": 74
        }
      },
      "source": [
        "from google.colab import files\n",
        "uploaded = files.upload()"
      ],
      "execution_count": 0,
      "outputs": [
        {
          "output_type": "display_data",
          "data": {
            "text/plain": [
              "<IPython.core.display.HTML object>"
            ],
            "text/html": [
              "\n",
              "     <input type=\"file\" id=\"files-7b394237-da79-4ed8-bdf5-8343788920cf\" name=\"files[]\" multiple disabled />\n",
              "     <output id=\"result-7b394237-da79-4ed8-bdf5-8343788920cf\">\n",
              "      Upload widget is only available when the cell has been executed in the\n",
              "      current browser session. Please rerun this cell to enable.\n",
              "      </output>\n",
              "      <script src=\"/nbextensions/google.colab/files.js\"></script> "
            ]
          },
          "metadata": {
            "tags": []
          }
        },
        {
          "output_type": "stream",
          "text": [
            "Saving amazon_review.csv to amazon_review.csv\n"
          ],
          "name": "stdout"
        }
      ]
    },
    {
      "cell_type": "code",
      "metadata": {
        "id": "HlFq0bV33IS0",
        "colab_type": "code",
        "outputId": "32bf8b41-56a6-4e36-d52e-6a173cd782af",
        "colab": {
          "base_uri": "https://localhost:8080/",
          "height": 50
        }
      },
      "source": [
        "import io\n",
        "amazon_review = pd.read_csv(io.BytesIO(uploaded['amazon_review.csv']))"
      ],
      "execution_count": 0,
      "outputs": [
        {
          "output_type": "stream",
          "text": [
            "/usr/local/lib/python2.7/dist-packages/IPython/core/interactiveshell.py:2718: DtypeWarning: Columns (1,10) have mixed types. Specify dtype option on import or set low_memory=False.\n",
            "  interactivity=interactivity, compiler=compiler, result=result)\n"
          ],
          "name": "stderr"
        }
      ]
    },
    {
      "cell_type": "markdown",
      "metadata": {
        "id": "gNWqAGVh1zMN",
        "colab_type": "text"
      },
      "source": [
        "Let's get the data, this dataset contains reviews on Amazon products and is available in Kaggle"
      ]
    },
    {
      "cell_type": "markdown",
      "metadata": {
        "id": "vyxp4uS51zMP",
        "colab_type": "text"
      },
      "source": [
        "Let's explore the data and see important characterstics of the dataframe"
      ]
    },
    {
      "cell_type": "code",
      "metadata": {
        "id": "GbGErw851zMQ",
        "colab_type": "code",
        "outputId": "6fe09278-052b-4cec-90ca-32f3edec2522",
        "colab": {
          "base_uri": "https://localhost:8080/",
          "height": 34
        }
      },
      "source": [
        "amazon_review.shape"
      ],
      "execution_count": 0,
      "outputs": [
        {
          "output_type": "execute_result",
          "data": {
            "text/plain": [
              "(34660, 21)"
            ]
          },
          "metadata": {
            "tags": []
          },
          "execution_count": 8
        }
      ]
    },
    {
      "cell_type": "code",
      "metadata": {
        "id": "6Wapfap01zMS",
        "colab_type": "code",
        "outputId": "5a0c9007-f446-4e4a-f1b7-2e9fb83b8552",
        "colab": {
          "base_uri": "https://localhost:8080/",
          "height": 134
        }
      },
      "source": [
        "amazon_review.columns"
      ],
      "execution_count": 0,
      "outputs": [
        {
          "output_type": "execute_result",
          "data": {
            "text/plain": [
              "Index([u'id', u'name', u'asins', u'brand', u'categories', u'keys',\n",
              "       u'manufacturer', u'reviews.date', u'reviews.dateAdded',\n",
              "       u'reviews.dateSeen', u'reviews.didPurchase', u'reviews.doRecommend',\n",
              "       u'reviews.id', u'reviews.numHelpful', u'reviews.rating',\n",
              "       u'reviews.sourceURLs', u'reviews.text', u'reviews.title',\n",
              "       u'reviews.userCity', u'reviews.userProvince', u'reviews.username'],\n",
              "      dtype='object')"
            ]
          },
          "metadata": {
            "tags": []
          },
          "execution_count": 9
        }
      ]
    },
    {
      "cell_type": "code",
      "metadata": {
        "id": "eg-L5QCE1zMU",
        "colab_type": "code",
        "outputId": "fd1430a3-bef7-41d4-c6a6-4d5c567c2f98",
        "colab": {
          "base_uri": "https://localhost:8080/",
          "height": 458
        }
      },
      "source": [
        "amazon_review.head(3)"
      ],
      "execution_count": 0,
      "outputs": [
        {
          "output_type": "execute_result",
          "data": {
            "text/html": [
              "<div>\n",
              "<style scoped>\n",
              "    .dataframe tbody tr th:only-of-type {\n",
              "        vertical-align: middle;\n",
              "    }\n",
              "\n",
              "    .dataframe tbody tr th {\n",
              "        vertical-align: top;\n",
              "    }\n",
              "\n",
              "    .dataframe thead th {\n",
              "        text-align: right;\n",
              "    }\n",
              "</style>\n",
              "<table border=\"1\" class=\"dataframe\">\n",
              "  <thead>\n",
              "    <tr style=\"text-align: right;\">\n",
              "      <th></th>\n",
              "      <th>id</th>\n",
              "      <th>name</th>\n",
              "      <th>asins</th>\n",
              "      <th>brand</th>\n",
              "      <th>categories</th>\n",
              "      <th>keys</th>\n",
              "      <th>manufacturer</th>\n",
              "      <th>reviews.date</th>\n",
              "      <th>reviews.dateAdded</th>\n",
              "      <th>reviews.dateSeen</th>\n",
              "      <th>reviews.didPurchase</th>\n",
              "      <th>reviews.doRecommend</th>\n",
              "      <th>reviews.id</th>\n",
              "      <th>reviews.numHelpful</th>\n",
              "      <th>reviews.rating</th>\n",
              "      <th>reviews.sourceURLs</th>\n",
              "      <th>reviews.text</th>\n",
              "      <th>reviews.title</th>\n",
              "      <th>reviews.userCity</th>\n",
              "      <th>reviews.userProvince</th>\n",
              "      <th>reviews.username</th>\n",
              "    </tr>\n",
              "  </thead>\n",
              "  <tbody>\n",
              "    <tr>\n",
              "      <th>0</th>\n",
              "      <td>AVqkIhwDv8e3D1O-lebb</td>\n",
              "      <td>All-New Fire HD 8 Tablet, 8 HD Display, Wi-Fi,...</td>\n",
              "      <td>B01AHB9CN2</td>\n",
              "      <td>Amazon</td>\n",
              "      <td>Electronics,iPad &amp; Tablets,All Tablets,Fire Ta...</td>\n",
              "      <td>841667104676,amazon/53004484,amazon/b01ahb9cn2...</td>\n",
              "      <td>Amazon</td>\n",
              "      <td>2017-01-13T00:00:00.000Z</td>\n",
              "      <td>2017-07-03T23:33:15Z</td>\n",
              "      <td>2017-06-07T09:04:00.000Z,2017-04-30T00:45:00.000Z</td>\n",
              "      <td>NaN</td>\n",
              "      <td>True</td>\n",
              "      <td>NaN</td>\n",
              "      <td>0.0</td>\n",
              "      <td>5.0</td>\n",
              "      <td>http://reviews.bestbuy.com/3545/5620406/review...</td>\n",
              "      <td>This product so far has not disappointed. My c...</td>\n",
              "      <td>Kindle</td>\n",
              "      <td>NaN</td>\n",
              "      <td>NaN</td>\n",
              "      <td>Adapter</td>\n",
              "    </tr>\n",
              "    <tr>\n",
              "      <th>1</th>\n",
              "      <td>AVqkIhwDv8e3D1O-lebb</td>\n",
              "      <td>All-New Fire HD 8 Tablet, 8 HD Display, Wi-Fi,...</td>\n",
              "      <td>B01AHB9CN2</td>\n",
              "      <td>Amazon</td>\n",
              "      <td>Electronics,iPad &amp; Tablets,All Tablets,Fire Ta...</td>\n",
              "      <td>841667104676,amazon/53004484,amazon/b01ahb9cn2...</td>\n",
              "      <td>Amazon</td>\n",
              "      <td>2017-01-13T00:00:00.000Z</td>\n",
              "      <td>2017-07-03T23:33:15Z</td>\n",
              "      <td>2017-06-07T09:04:00.000Z,2017-04-30T00:45:00.000Z</td>\n",
              "      <td>NaN</td>\n",
              "      <td>True</td>\n",
              "      <td>NaN</td>\n",
              "      <td>0.0</td>\n",
              "      <td>5.0</td>\n",
              "      <td>http://reviews.bestbuy.com/3545/5620406/review...</td>\n",
              "      <td>great for beginner or experienced person. Boug...</td>\n",
              "      <td>very fast</td>\n",
              "      <td>NaN</td>\n",
              "      <td>NaN</td>\n",
              "      <td>truman</td>\n",
              "    </tr>\n",
              "    <tr>\n",
              "      <th>2</th>\n",
              "      <td>AVqkIhwDv8e3D1O-lebb</td>\n",
              "      <td>All-New Fire HD 8 Tablet, 8 HD Display, Wi-Fi,...</td>\n",
              "      <td>B01AHB9CN2</td>\n",
              "      <td>Amazon</td>\n",
              "      <td>Electronics,iPad &amp; Tablets,All Tablets,Fire Ta...</td>\n",
              "      <td>841667104676,amazon/53004484,amazon/b01ahb9cn2...</td>\n",
              "      <td>Amazon</td>\n",
              "      <td>2017-01-13T00:00:00.000Z</td>\n",
              "      <td>2017-07-03T23:33:15Z</td>\n",
              "      <td>2017-06-07T09:04:00.000Z,2017-04-30T00:45:00.000Z</td>\n",
              "      <td>NaN</td>\n",
              "      <td>True</td>\n",
              "      <td>NaN</td>\n",
              "      <td>0.0</td>\n",
              "      <td>5.0</td>\n",
              "      <td>http://reviews.bestbuy.com/3545/5620406/review...</td>\n",
              "      <td>Inexpensive tablet for him to use and learn on...</td>\n",
              "      <td>Beginner tablet for our 9 year old son.</td>\n",
              "      <td>NaN</td>\n",
              "      <td>NaN</td>\n",
              "      <td>DaveZ</td>\n",
              "    </tr>\n",
              "  </tbody>\n",
              "</table>\n",
              "</div>"
            ],
            "text/plain": [
              "                     id  ... reviews.username\n",
              "0  AVqkIhwDv8e3D1O-lebb  ...          Adapter\n",
              "1  AVqkIhwDv8e3D1O-lebb  ...           truman\n",
              "2  AVqkIhwDv8e3D1O-lebb  ...            DaveZ\n",
              "\n",
              "[3 rows x 21 columns]"
            ]
          },
          "metadata": {
            "tags": []
          },
          "execution_count": 10
        }
      ]
    },
    {
      "cell_type": "markdown",
      "metadata": {
        "id": "g-38g8qy1zMW",
        "colab_type": "text"
      },
      "source": [
        "#### Since we are interested in making Bag of Model for Natural Language processing, we are interested in only two columns, Reviews and Ratings. but's let's take id and username too for the sake of uniqueness in reviews"
      ]
    },
    {
      "cell_type": "code",
      "metadata": {
        "id": "Gfv4wAWr1zMX",
        "colab_type": "code",
        "colab": {}
      },
      "source": [
        "nlp_data=amazon_review[['id','reviews.text','reviews.rating','reviews.username']]"
      ],
      "execution_count": 0,
      "outputs": []
    },
    {
      "cell_type": "code",
      "metadata": {
        "id": "XiQYANAU1zMZ",
        "colab_type": "code",
        "outputId": "cddab435-7ef4-4774-9848-02c7089d5b73",
        "colab": {
          "base_uri": "https://localhost:8080/",
          "height": 195
        }
      },
      "source": [
        "nlp_data.head(5)"
      ],
      "execution_count": 0,
      "outputs": [
        {
          "output_type": "execute_result",
          "data": {
            "text/html": [
              "<div>\n",
              "<style scoped>\n",
              "    .dataframe tbody tr th:only-of-type {\n",
              "        vertical-align: middle;\n",
              "    }\n",
              "\n",
              "    .dataframe tbody tr th {\n",
              "        vertical-align: top;\n",
              "    }\n",
              "\n",
              "    .dataframe thead th {\n",
              "        text-align: right;\n",
              "    }\n",
              "</style>\n",
              "<table border=\"1\" class=\"dataframe\">\n",
              "  <thead>\n",
              "    <tr style=\"text-align: right;\">\n",
              "      <th></th>\n",
              "      <th>id</th>\n",
              "      <th>reviews.text</th>\n",
              "      <th>reviews.rating</th>\n",
              "      <th>reviews.username</th>\n",
              "    </tr>\n",
              "  </thead>\n",
              "  <tbody>\n",
              "    <tr>\n",
              "      <th>0</th>\n",
              "      <td>AVqkIhwDv8e3D1O-lebb</td>\n",
              "      <td>This product so far has not disappointed. My c...</td>\n",
              "      <td>5.0</td>\n",
              "      <td>Adapter</td>\n",
              "    </tr>\n",
              "    <tr>\n",
              "      <th>1</th>\n",
              "      <td>AVqkIhwDv8e3D1O-lebb</td>\n",
              "      <td>great for beginner or experienced person. Boug...</td>\n",
              "      <td>5.0</td>\n",
              "      <td>truman</td>\n",
              "    </tr>\n",
              "    <tr>\n",
              "      <th>2</th>\n",
              "      <td>AVqkIhwDv8e3D1O-lebb</td>\n",
              "      <td>Inexpensive tablet for him to use and learn on...</td>\n",
              "      <td>5.0</td>\n",
              "      <td>DaveZ</td>\n",
              "    </tr>\n",
              "    <tr>\n",
              "      <th>3</th>\n",
              "      <td>AVqkIhwDv8e3D1O-lebb</td>\n",
              "      <td>I've had my Fire HD 8 two weeks now and I love...</td>\n",
              "      <td>4.0</td>\n",
              "      <td>Shacks</td>\n",
              "    </tr>\n",
              "    <tr>\n",
              "      <th>4</th>\n",
              "      <td>AVqkIhwDv8e3D1O-lebb</td>\n",
              "      <td>I bought this for my grand daughter when she c...</td>\n",
              "      <td>5.0</td>\n",
              "      <td>explore42</td>\n",
              "    </tr>\n",
              "  </tbody>\n",
              "</table>\n",
              "</div>"
            ],
            "text/plain": [
              "                     id  ... reviews.username\n",
              "0  AVqkIhwDv8e3D1O-lebb  ...          Adapter\n",
              "1  AVqkIhwDv8e3D1O-lebb  ...           truman\n",
              "2  AVqkIhwDv8e3D1O-lebb  ...            DaveZ\n",
              "3  AVqkIhwDv8e3D1O-lebb  ...           Shacks\n",
              "4  AVqkIhwDv8e3D1O-lebb  ...        explore42\n",
              "\n",
              "[5 rows x 4 columns]"
            ]
          },
          "metadata": {
            "tags": []
          },
          "execution_count": 12
        }
      ]
    },
    {
      "cell_type": "markdown",
      "metadata": {
        "id": "eh3TOlY41zMb",
        "colab_type": "text"
      },
      "source": [
        "Let's check if there is NaN values in ratings or not since, this values are target variables for our predictions"
      ]
    },
    {
      "cell_type": "code",
      "metadata": {
        "id": "Z234ThVV1zMc",
        "colab_type": "code",
        "outputId": "ed843b34-a74a-4d53-d990-8399baa05e05",
        "colab": {
          "base_uri": "https://localhost:8080/",
          "height": 84
        }
      },
      "source": [
        "np.where(np.isnan(nlp_data['reviews.rating']))"
      ],
      "execution_count": 0,
      "outputs": [
        {
          "output_type": "execute_result",
          "data": {
            "text/plain": [
              "(array([ 2886,  2887,  2888,  2889,  2890,  2891,  2892,  2893,  2894,\n",
              "         2895,  2896,  2897,  2898,  2899,  2900,  2901,  2902,  2903,\n",
              "         2904,  3691,  3692,  3693,  3694, 14727, 14728, 14729, 14731,\n",
              "        14732, 21226, 21227, 21228, 21229, 29572]),)"
            ]
          },
          "metadata": {
            "tags": []
          },
          "execution_count": 13
        }
      ]
    },
    {
      "cell_type": "markdown",
      "metadata": {
        "id": "BegLVMdi1zMe",
        "colab_type": "text"
      },
      "source": [
        "Since, there are not too many datasets having NaN values and we don't want our model with wrong data so, let's drop these observations"
      ]
    },
    {
      "cell_type": "code",
      "metadata": {
        "id": "diVtejfa1zMf",
        "colab_type": "code",
        "colab": {}
      },
      "source": [
        "nlp_data=nlp_data.drop([2886,  2887,  2888,  2889,  2890,  2891,  2892,  2893,  2894,\n",
        "         2895,  2896,  2897,  2898,  2899,  2900,  2901,  2902,  2903,\n",
        "         2904,  3691,  3692,  3693,  3694, 14727, 14728, 14729, 14731,\n",
        "        14732, 21226, 21227, 21228, 21229, 29572])"
      ],
      "execution_count": 0,
      "outputs": []
    },
    {
      "cell_type": "code",
      "metadata": {
        "id": "7zRJuKU81zMg",
        "colab_type": "code",
        "colab": {}
      },
      "source": [
        "nlp_data.reset_index(inplace=True)"
      ],
      "execution_count": 0,
      "outputs": []
    },
    {
      "cell_type": "code",
      "metadata": {
        "id": "p6VOiAe41zMi",
        "colab_type": "code",
        "outputId": "fc800412-bb57-455e-c042-777242c39b1c",
        "colab": {
          "base_uri": "https://localhost:8080/",
          "height": 34
        }
      },
      "source": [
        "nlp_data.shape"
      ],
      "execution_count": 0,
      "outputs": [
        {
          "output_type": "execute_result",
          "data": {
            "text/plain": [
              "(34627, 5)"
            ]
          },
          "metadata": {
            "tags": []
          },
          "execution_count": 16
        }
      ]
    },
    {
      "cell_type": "code",
      "metadata": {
        "id": "67FPSQMI1zMk",
        "colab_type": "code",
        "outputId": "5616d566-449a-46f5-81e6-f6b771e16ac4",
        "colab": {
          "base_uri": "https://localhost:8080/",
          "height": 34
        }
      },
      "source": [
        "np.where(np.isnan(nlp_data['reviews.rating']))"
      ],
      "execution_count": 0,
      "outputs": [
        {
          "output_type": "execute_result",
          "data": {
            "text/plain": [
              "(array([], dtype=int64),)"
            ]
          },
          "metadata": {
            "tags": []
          },
          "execution_count": 17
        }
      ]
    },
    {
      "cell_type": "code",
      "metadata": {
        "id": "UP2BWN4Y1zMm",
        "colab_type": "code",
        "outputId": "d5455770-657d-4b7b-b50b-8d51f43d9f9e",
        "colab": {
          "base_uri": "https://localhost:8080/",
          "height": 195
        }
      },
      "source": [
        "nlp_data.head()"
      ],
      "execution_count": 0,
      "outputs": [
        {
          "output_type": "execute_result",
          "data": {
            "text/html": [
              "<div>\n",
              "<style scoped>\n",
              "    .dataframe tbody tr th:only-of-type {\n",
              "        vertical-align: middle;\n",
              "    }\n",
              "\n",
              "    .dataframe tbody tr th {\n",
              "        vertical-align: top;\n",
              "    }\n",
              "\n",
              "    .dataframe thead th {\n",
              "        text-align: right;\n",
              "    }\n",
              "</style>\n",
              "<table border=\"1\" class=\"dataframe\">\n",
              "  <thead>\n",
              "    <tr style=\"text-align: right;\">\n",
              "      <th></th>\n",
              "      <th>index</th>\n",
              "      <th>id</th>\n",
              "      <th>reviews.text</th>\n",
              "      <th>reviews.rating</th>\n",
              "      <th>reviews.username</th>\n",
              "    </tr>\n",
              "  </thead>\n",
              "  <tbody>\n",
              "    <tr>\n",
              "      <th>0</th>\n",
              "      <td>0</td>\n",
              "      <td>AVqkIhwDv8e3D1O-lebb</td>\n",
              "      <td>This product so far has not disappointed. My c...</td>\n",
              "      <td>5.0</td>\n",
              "      <td>Adapter</td>\n",
              "    </tr>\n",
              "    <tr>\n",
              "      <th>1</th>\n",
              "      <td>1</td>\n",
              "      <td>AVqkIhwDv8e3D1O-lebb</td>\n",
              "      <td>great for beginner or experienced person. Boug...</td>\n",
              "      <td>5.0</td>\n",
              "      <td>truman</td>\n",
              "    </tr>\n",
              "    <tr>\n",
              "      <th>2</th>\n",
              "      <td>2</td>\n",
              "      <td>AVqkIhwDv8e3D1O-lebb</td>\n",
              "      <td>Inexpensive tablet for him to use and learn on...</td>\n",
              "      <td>5.0</td>\n",
              "      <td>DaveZ</td>\n",
              "    </tr>\n",
              "    <tr>\n",
              "      <th>3</th>\n",
              "      <td>3</td>\n",
              "      <td>AVqkIhwDv8e3D1O-lebb</td>\n",
              "      <td>I've had my Fire HD 8 two weeks now and I love...</td>\n",
              "      <td>4.0</td>\n",
              "      <td>Shacks</td>\n",
              "    </tr>\n",
              "    <tr>\n",
              "      <th>4</th>\n",
              "      <td>4</td>\n",
              "      <td>AVqkIhwDv8e3D1O-lebb</td>\n",
              "      <td>I bought this for my grand daughter when she c...</td>\n",
              "      <td>5.0</td>\n",
              "      <td>explore42</td>\n",
              "    </tr>\n",
              "  </tbody>\n",
              "</table>\n",
              "</div>"
            ],
            "text/plain": [
              "   index                    id  ... reviews.rating  reviews.username\n",
              "0      0  AVqkIhwDv8e3D1O-lebb  ...            5.0           Adapter\n",
              "1      1  AVqkIhwDv8e3D1O-lebb  ...            5.0            truman\n",
              "2      2  AVqkIhwDv8e3D1O-lebb  ...            5.0             DaveZ\n",
              "3      3  AVqkIhwDv8e3D1O-lebb  ...            4.0            Shacks\n",
              "4      4  AVqkIhwDv8e3D1O-lebb  ...            5.0         explore42\n",
              "\n",
              "[5 rows x 5 columns]"
            ]
          },
          "metadata": {
            "tags": []
          },
          "execution_count": 18
        }
      ]
    },
    {
      "cell_type": "code",
      "metadata": {
        "id": "4y-yiDyH1zMo",
        "colab_type": "code",
        "outputId": "e2b1d16a-5347-4f7c-e9d9-3a22709a9f80",
        "colab": {
          "base_uri": "https://localhost:8080/",
          "height": 195
        }
      },
      "source": [
        "nlp_data.tail()"
      ],
      "execution_count": 0,
      "outputs": [
        {
          "output_type": "execute_result",
          "data": {
            "text/html": [
              "<div>\n",
              "<style scoped>\n",
              "    .dataframe tbody tr th:only-of-type {\n",
              "        vertical-align: middle;\n",
              "    }\n",
              "\n",
              "    .dataframe tbody tr th {\n",
              "        vertical-align: top;\n",
              "    }\n",
              "\n",
              "    .dataframe thead th {\n",
              "        text-align: right;\n",
              "    }\n",
              "</style>\n",
              "<table border=\"1\" class=\"dataframe\">\n",
              "  <thead>\n",
              "    <tr style=\"text-align: right;\">\n",
              "      <th></th>\n",
              "      <th>index</th>\n",
              "      <th>id</th>\n",
              "      <th>reviews.text</th>\n",
              "      <th>reviews.rating</th>\n",
              "      <th>reviews.username</th>\n",
              "    </tr>\n",
              "  </thead>\n",
              "  <tbody>\n",
              "    <tr>\n",
              "      <th>34622</th>\n",
              "      <td>34655</td>\n",
              "      <td>AVpfiBlyLJeJML43-4Tp</td>\n",
              "      <td>This is not appreciably faster than any other ...</td>\n",
              "      <td>3.0</td>\n",
              "      <td>Kris</td>\n",
              "    </tr>\n",
              "    <tr>\n",
              "      <th>34623</th>\n",
              "      <td>34656</td>\n",
              "      <td>AVpfiBlyLJeJML43-4Tp</td>\n",
              "      <td>Amazon should include this charger with the Ki...</td>\n",
              "      <td>1.0</td>\n",
              "      <td>Jonathan Stewart</td>\n",
              "    </tr>\n",
              "    <tr>\n",
              "      <th>34624</th>\n",
              "      <td>34657</td>\n",
              "      <td>AVpfiBlyLJeJML43-4Tp</td>\n",
              "      <td>Love my Kindle Fire but I am really disappoint...</td>\n",
              "      <td>1.0</td>\n",
              "      <td>J Lawson</td>\n",
              "    </tr>\n",
              "    <tr>\n",
              "      <th>34625</th>\n",
              "      <td>34658</td>\n",
              "      <td>AVpfiBlyLJeJML43-4Tp</td>\n",
              "      <td>I was surprised to find it did not come with a...</td>\n",
              "      <td>1.0</td>\n",
              "      <td>Just the Buyer</td>\n",
              "    </tr>\n",
              "    <tr>\n",
              "      <th>34626</th>\n",
              "      <td>34659</td>\n",
              "      <td>AVpfiBlyLJeJML43-4Tp</td>\n",
              "      <td>to spite the fact that i have nothing but good...</td>\n",
              "      <td>1.0</td>\n",
              "      <td>sandi</td>\n",
              "    </tr>\n",
              "  </tbody>\n",
              "</table>\n",
              "</div>"
            ],
            "text/plain": [
              "       index                    id  ... reviews.rating  reviews.username\n",
              "34622  34655  AVpfiBlyLJeJML43-4Tp  ...            3.0              Kris\n",
              "34623  34656  AVpfiBlyLJeJML43-4Tp  ...            1.0  Jonathan Stewart\n",
              "34624  34657  AVpfiBlyLJeJML43-4Tp  ...            1.0          J Lawson\n",
              "34625  34658  AVpfiBlyLJeJML43-4Tp  ...            1.0    Just the Buyer\n",
              "34626  34659  AVpfiBlyLJeJML43-4Tp  ...            1.0             sandi\n",
              "\n",
              "[5 rows x 5 columns]"
            ]
          },
          "metadata": {
            "tags": []
          },
          "execution_count": 19
        }
      ]
    },
    {
      "cell_type": "code",
      "metadata": {
        "id": "melljgrw_ptA",
        "colab_type": "code",
        "outputId": "ee58f6d4-31d4-4933-e7f7-65928a530aa8",
        "colab": {
          "base_uri": "https://localhost:8080/",
          "height": 225
        }
      },
      "source": [
        "nlp_data.groupby('reviews.rating').count()"
      ],
      "execution_count": 0,
      "outputs": [
        {
          "output_type": "execute_result",
          "data": {
            "text/html": [
              "<div>\n",
              "<style scoped>\n",
              "    .dataframe tbody tr th:only-of-type {\n",
              "        vertical-align: middle;\n",
              "    }\n",
              "\n",
              "    .dataframe tbody tr th {\n",
              "        vertical-align: top;\n",
              "    }\n",
              "\n",
              "    .dataframe thead th {\n",
              "        text-align: right;\n",
              "    }\n",
              "</style>\n",
              "<table border=\"1\" class=\"dataframe\">\n",
              "  <thead>\n",
              "    <tr style=\"text-align: right;\">\n",
              "      <th></th>\n",
              "      <th>index</th>\n",
              "      <th>id</th>\n",
              "      <th>reviews.text</th>\n",
              "      <th>reviews.username</th>\n",
              "    </tr>\n",
              "    <tr>\n",
              "      <th>reviews.rating</th>\n",
              "      <th></th>\n",
              "      <th></th>\n",
              "      <th></th>\n",
              "      <th></th>\n",
              "    </tr>\n",
              "  </thead>\n",
              "  <tbody>\n",
              "    <tr>\n",
              "      <th>1.0</th>\n",
              "      <td>410</td>\n",
              "      <td>410</td>\n",
              "      <td>410</td>\n",
              "      <td>410</td>\n",
              "    </tr>\n",
              "    <tr>\n",
              "      <th>2.0</th>\n",
              "      <td>402</td>\n",
              "      <td>402</td>\n",
              "      <td>402</td>\n",
              "      <td>402</td>\n",
              "    </tr>\n",
              "    <tr>\n",
              "      <th>3.0</th>\n",
              "      <td>1499</td>\n",
              "      <td>1499</td>\n",
              "      <td>1499</td>\n",
              "      <td>1499</td>\n",
              "    </tr>\n",
              "    <tr>\n",
              "      <th>4.0</th>\n",
              "      <td>8541</td>\n",
              "      <td>8541</td>\n",
              "      <td>8541</td>\n",
              "      <td>8541</td>\n",
              "    </tr>\n",
              "    <tr>\n",
              "      <th>5.0</th>\n",
              "      <td>23775</td>\n",
              "      <td>23775</td>\n",
              "      <td>23774</td>\n",
              "      <td>23773</td>\n",
              "    </tr>\n",
              "  </tbody>\n",
              "</table>\n",
              "</div>"
            ],
            "text/plain": [
              "                index     id  reviews.text  reviews.username\n",
              "reviews.rating                                              \n",
              "1.0               410    410           410               410\n",
              "2.0               402    402           402               402\n",
              "3.0              1499   1499          1499              1499\n",
              "4.0              8541   8541          8541              8541\n",
              "5.0             23775  23775         23774             23773"
            ]
          },
          "metadata": {
            "tags": []
          },
          "execution_count": 20
        }
      ]
    },
    {
      "cell_type": "markdown",
      "metadata": {
        "id": "UxZTBgAR1zMr",
        "colab_type": "text"
      },
      "source": [
        "### Let's explore one of the review. User has written this fairly clean."
      ]
    },
    {
      "cell_type": "code",
      "metadata": {
        "id": "MRDIfZPX1zMs",
        "colab_type": "code",
        "outputId": "6bdb989f-35e7-4339-da10-9e0521032663",
        "colab": {
          "base_uri": "https://localhost:8080/",
          "height": 34
        }
      },
      "source": [
        "nlp_data['reviews.text'][0]"
      ],
      "execution_count": 0,
      "outputs": [
        {
          "output_type": "execute_result",
          "data": {
            "text/plain": [
              "'This product so far has not disappointed. My children love to use it and I like the ability to monitor control what content they see with ease.'"
            ]
          },
          "metadata": {
            "tags": []
          },
          "execution_count": 21
        }
      ]
    },
    {
      "cell_type": "markdown",
      "metadata": {
        "id": "cmuCC6BK1zMu",
        "colab_type": "text"
      },
      "source": [
        "Our approach of cleaning is simple. We will remove unncessary words, make them all lower case, make all derived words to roots called stemming, make a list of those words add back as reviews and store them in different list"
      ]
    },
    {
      "cell_type": "code",
      "metadata": {
        "id": "GTJGaWZS1zMu",
        "colab_type": "code",
        "outputId": "46dcbbd3-efb8-4028-d57c-9683f5fdfcc3",
        "colab": {
          "base_uri": "https://localhost:8080/",
          "height": 50
        }
      },
      "source": [
        "import re\n",
        "import nltk\n",
        "nltk.download('stopwords')\n",
        "from nltk.corpus import stopwords\n",
        "from nltk.stem.porter import PorterStemmer"
      ],
      "execution_count": 0,
      "outputs": [
        {
          "output_type": "stream",
          "text": [
            "[nltk_data] Downloading package stopwords to /root/nltk_data...\n",
            "[nltk_data]   Unzipping corpora/stopwords.zip.\n"
          ],
          "name": "stdout"
        }
      ]
    },
    {
      "cell_type": "markdown",
      "metadata": {
        "id": "dclxUrso1zMw",
        "colab_type": "text"
      },
      "source": [
        "In this code we are removing everything except letters of words either cap or small"
      ]
    },
    {
      "cell_type": "code",
      "metadata": {
        "id": "7pnLAsKa1zMx",
        "colab_type": "code",
        "colab": {}
      },
      "source": [
        "review = re.sub('[^a-zA-Z]', ' ', nlp_data['reviews.text'][0])\n",
        "   "
      ],
      "execution_count": 0,
      "outputs": []
    },
    {
      "cell_type": "code",
      "metadata": {
        "id": "KdFLUQ0J1zMz",
        "colab_type": "code",
        "outputId": "d6b81f21-9685-4c7b-ba5f-54ca68614613",
        "colab": {
          "base_uri": "https://localhost:8080/",
          "height": 34
        }
      },
      "source": [
        "review"
      ],
      "execution_count": 0,
      "outputs": [
        {
          "output_type": "execute_result",
          "data": {
            "text/plain": [
              "'This product so far has not disappointed  My children love to use it and I like the ability to monitor control what content they see with ease '"
            ]
          },
          "metadata": {
            "tags": []
          },
          "execution_count": 24
        }
      ]
    },
    {
      "cell_type": "code",
      "metadata": {
        "id": "MSb9yGwZ1zM2",
        "colab_type": "code",
        "colab": {}
      },
      "source": [
        "review = review.lower()"
      ],
      "execution_count": 0,
      "outputs": []
    },
    {
      "cell_type": "code",
      "metadata": {
        "id": "bcnC7zYE1zM5",
        "colab_type": "code",
        "outputId": "38d8b9e0-0fcd-4dc1-d866-bd923416164e",
        "colab": {
          "base_uri": "https://localhost:8080/",
          "height": 34
        }
      },
      "source": [
        "review"
      ],
      "execution_count": 0,
      "outputs": [
        {
          "output_type": "execute_result",
          "data": {
            "text/plain": [
              "'this product so far has not disappointed  my children love to use it and i like the ability to monitor control what content they see with ease '"
            ]
          },
          "metadata": {
            "tags": []
          },
          "execution_count": 26
        }
      ]
    },
    {
      "cell_type": "code",
      "metadata": {
        "id": "DkJYgaSl1zM7",
        "colab_type": "code",
        "colab": {}
      },
      "source": [
        "review = review.split()"
      ],
      "execution_count": 0,
      "outputs": []
    },
    {
      "cell_type": "code",
      "metadata": {
        "id": "oh6DHtd-1zM9",
        "colab_type": "code",
        "outputId": "b8eafa99-4ba3-42cd-c071-294c2d06d2a4",
        "colab": {
          "base_uri": "https://localhost:8080/",
          "height": 470
        }
      },
      "source": [
        "review"
      ],
      "execution_count": 0,
      "outputs": [
        {
          "output_type": "execute_result",
          "data": {
            "text/plain": [
              "['this',\n",
              " 'product',\n",
              " 'so',\n",
              " 'far',\n",
              " 'has',\n",
              " 'not',\n",
              " 'disappointed',\n",
              " 'my',\n",
              " 'children',\n",
              " 'love',\n",
              " 'to',\n",
              " 'use',\n",
              " 'it',\n",
              " 'and',\n",
              " 'i',\n",
              " 'like',\n",
              " 'the',\n",
              " 'ability',\n",
              " 'to',\n",
              " 'monitor',\n",
              " 'control',\n",
              " 'what',\n",
              " 'content',\n",
              " 'they',\n",
              " 'see',\n",
              " 'with',\n",
              " 'ease']"
            ]
          },
          "metadata": {
            "tags": []
          },
          "execution_count": 28
        }
      ]
    },
    {
      "cell_type": "code",
      "metadata": {
        "id": "hSaXmg3H1zM_",
        "colab_type": "code",
        "colab": {}
      },
      "source": [
        "ps = PorterStemmer()\n",
        "review = [ps.stem(word) for word in review if not word in set(stopwords.words('english'))]"
      ],
      "execution_count": 0,
      "outputs": []
    },
    {
      "cell_type": "code",
      "metadata": {
        "id": "b-WIVKCO1zNB",
        "colab_type": "code",
        "outputId": "3bb8d2d0-0d9c-49a8-ed1a-65b7f26dce52",
        "colab": {
          "base_uri": "https://localhost:8080/",
          "height": 235
        }
      },
      "source": [
        "review"
      ],
      "execution_count": 0,
      "outputs": [
        {
          "output_type": "execute_result",
          "data": {
            "text/plain": [
              "['product',\n",
              " 'far',\n",
              " u'disappoint',\n",
              " 'children',\n",
              " 'love',\n",
              " 'use',\n",
              " 'like',\n",
              " u'abil',\n",
              " 'monitor',\n",
              " 'control',\n",
              " 'content',\n",
              " 'see',\n",
              " u'eas']"
            ]
          },
          "metadata": {
            "tags": []
          },
          "execution_count": 30
        }
      ]
    },
    {
      "cell_type": "code",
      "metadata": {
        "id": "6Cs41x8h1zNE",
        "colab_type": "code",
        "colab": {}
      },
      "source": [
        "review = ' '.join(review)\n"
      ],
      "execution_count": 0,
      "outputs": []
    },
    {
      "cell_type": "code",
      "metadata": {
        "id": "m3zlOwZU1zNG",
        "colab_type": "code",
        "outputId": "85b837b3-b53d-4eab-818a-2cf1a5a3ee41",
        "colab": {
          "base_uri": "https://localhost:8080/",
          "height": 34
        }
      },
      "source": [
        "review"
      ],
      "execution_count": 0,
      "outputs": [
        {
          "output_type": "execute_result",
          "data": {
            "text/plain": [
              "u'product far disappoint children love use like abil monitor control content see eas'"
            ]
          },
          "metadata": {
            "tags": []
          },
          "execution_count": 32
        }
      ]
    },
    {
      "cell_type": "markdown",
      "metadata": {
        "id": "mhS4xwwZ1zNH",
        "colab_type": "text"
      },
      "source": [
        "Let's do this for all the reviews in the datasets. We are using Try and except so that, if there is any error on one or two columns then it should't effect our operations on other columns"
      ]
    },
    {
      "cell_type": "code",
      "metadata": {
        "id": "EIoP3DFG1zNI",
        "colab_type": "code",
        "colab": {}
      },
      "source": [
        "error=[]\n",
        "corpus = []\n",
        "for i in range(0, 34627):\n",
        "    try:\n",
        "        review = re.sub('[^a-zA-Z]', ' ',nlp_data['reviews.text'][i])\n",
        "        review = review.lower()\n",
        "        review = review.split()\n",
        "        review = [ps.stem(word) for word in review if not word in set(stopwords.words('english'))]\n",
        "        review = ' '.join(review)\n",
        "        corpus.append(review)\n",
        "    except:\n",
        "        error.extend([review,nlp_data['id'][i],nlp_data['reviews.rating'][i],nlp_data['reviews.username'][i]])"
      ],
      "execution_count": 0,
      "outputs": []
    },
    {
      "cell_type": "code",
      "metadata": {
        "id": "L8raB-Ir1zNK",
        "colab_type": "code",
        "outputId": "583d4c84-5fad-405a-b270-7691f77fcbf1",
        "colab": {
          "base_uri": "https://localhost:8080/",
          "height": 34
        }
      },
      "source": [
        "len(corpus)"
      ],
      "execution_count": 0,
      "outputs": [
        {
          "output_type": "execute_result",
          "data": {
            "text/plain": [
              "34626"
            ]
          },
          "metadata": {
            "tags": []
          },
          "execution_count": 34
        }
      ]
    },
    {
      "cell_type": "markdown",
      "metadata": {
        "id": "qWhSkRYr1zNM",
        "colab_type": "text"
      },
      "source": [
        "We can see, following operations gave error for following observations"
      ]
    },
    {
      "cell_type": "code",
      "metadata": {
        "id": "4o73CV2V1zNM",
        "colab_type": "code",
        "outputId": "80da5d7e-165f-4eba-9346-e1e3fda575ef",
        "colab": {
          "base_uri": "https://localhost:8080/",
          "height": 34
        }
      },
      "source": [
        "error"
      ],
      "execution_count": 0,
      "outputs": [
        {
          "output_type": "execute_result",
          "data": {
            "text/plain": [
              "[u'pleas purchas', 'AVsRjfwAU2_QcyX9PHqe', 5.0, 'lawrence s martin']"
            ]
          },
          "metadata": {
            "tags": []
          },
          "execution_count": 35
        }
      ]
    },
    {
      "cell_type": "code",
      "metadata": {
        "id": "14anSBjG1zNO",
        "colab_type": "code",
        "outputId": "65e985a1-bd01-446e-d1e3-6b178473196f",
        "colab": {
          "base_uri": "https://localhost:8080/",
          "height": 118
        }
      },
      "source": [
        "nlp_data.dtypes"
      ],
      "execution_count": 0,
      "outputs": [
        {
          "output_type": "execute_result",
          "data": {
            "text/plain": [
              "index                 int64\n",
              "id                   object\n",
              "reviews.text         object\n",
              "reviews.rating      float64\n",
              "reviews.username     object\n",
              "dtype: object"
            ]
          },
          "metadata": {
            "tags": []
          },
          "execution_count": 36
        }
      ]
    },
    {
      "cell_type": "markdown",
      "metadata": {
        "id": "K4qKRibq1zNQ",
        "colab_type": "text"
      },
      "source": [
        "Let's find that observations in the dataset. We can see that there is no reviews but just rating"
      ]
    },
    {
      "cell_type": "code",
      "metadata": {
        "id": "Rl22zi-J1zNR",
        "colab_type": "code",
        "outputId": "8c187c42-0e4b-485c-b4ac-3098a5078f1f",
        "colab": {
          "base_uri": "https://localhost:8080/",
          "height": 77
        }
      },
      "source": [
        "nlp_data[nlp_data['reviews.username']== 'lawrence s martin']"
      ],
      "execution_count": 0,
      "outputs": [
        {
          "output_type": "execute_result",
          "data": {
            "text/html": [
              "<div>\n",
              "<style scoped>\n",
              "    .dataframe tbody tr th:only-of-type {\n",
              "        vertical-align: middle;\n",
              "    }\n",
              "\n",
              "    .dataframe tbody tr th {\n",
              "        vertical-align: top;\n",
              "    }\n",
              "\n",
              "    .dataframe thead th {\n",
              "        text-align: right;\n",
              "    }\n",
              "</style>\n",
              "<table border=\"1\" class=\"dataframe\">\n",
              "  <thead>\n",
              "    <tr style=\"text-align: right;\">\n",
              "      <th></th>\n",
              "      <th>index</th>\n",
              "      <th>id</th>\n",
              "      <th>reviews.text</th>\n",
              "      <th>reviews.rating</th>\n",
              "      <th>reviews.username</th>\n",
              "    </tr>\n",
              "  </thead>\n",
              "  <tbody>\n",
              "    <tr>\n",
              "      <th>3092</th>\n",
              "      <td>3111</td>\n",
              "      <td>AVsRjfwAU2_QcyX9PHqe</td>\n",
              "      <td>NaN</td>\n",
              "      <td>5.0</td>\n",
              "      <td>lawrence s martin</td>\n",
              "    </tr>\n",
              "  </tbody>\n",
              "</table>\n",
              "</div>"
            ],
            "text/plain": [
              "      index                    id  ... reviews.rating   reviews.username\n",
              "3092   3111  AVsRjfwAU2_QcyX9PHqe  ...            5.0  lawrence s martin\n",
              "\n",
              "[1 rows x 5 columns]"
            ]
          },
          "metadata": {
            "tags": []
          },
          "execution_count": 37
        }
      ]
    },
    {
      "cell_type": "markdown",
      "metadata": {
        "id": "KNz1N_ej1zNS",
        "colab_type": "text"
      },
      "source": [
        "Let's just drop this observation"
      ]
    },
    {
      "cell_type": "code",
      "metadata": {
        "id": "wgQ1FF3X1zNT",
        "colab_type": "code",
        "colab": {}
      },
      "source": [
        "nlp_data=nlp_data.drop([3092])"
      ],
      "execution_count": 0,
      "outputs": []
    },
    {
      "cell_type": "code",
      "metadata": {
        "id": "ik8nZ4GY1zNU",
        "colab_type": "code",
        "outputId": "7fab303b-f972-46bf-efbf-f2e51fcfc149",
        "colab": {
          "base_uri": "https://localhost:8080/",
          "height": 34
        }
      },
      "source": [
        "nlp_data.shape"
      ],
      "execution_count": 0,
      "outputs": [
        {
          "output_type": "execute_result",
          "data": {
            "text/plain": [
              "(34626, 5)"
            ]
          },
          "metadata": {
            "tags": []
          },
          "execution_count": 39
        }
      ]
    },
    {
      "cell_type": "code",
      "metadata": {
        "id": "8OOc6Quv1zNW",
        "colab_type": "code",
        "outputId": "889cd94b-d1f9-4ed9-bb46-93da4815d79c",
        "colab": {
          "base_uri": "https://localhost:8080/",
          "height": 136
        }
      },
      "source": [
        "nlp_data.head(3)"
      ],
      "execution_count": 0,
      "outputs": [
        {
          "output_type": "execute_result",
          "data": {
            "text/html": [
              "<div>\n",
              "<style scoped>\n",
              "    .dataframe tbody tr th:only-of-type {\n",
              "        vertical-align: middle;\n",
              "    }\n",
              "\n",
              "    .dataframe tbody tr th {\n",
              "        vertical-align: top;\n",
              "    }\n",
              "\n",
              "    .dataframe thead th {\n",
              "        text-align: right;\n",
              "    }\n",
              "</style>\n",
              "<table border=\"1\" class=\"dataframe\">\n",
              "  <thead>\n",
              "    <tr style=\"text-align: right;\">\n",
              "      <th></th>\n",
              "      <th>index</th>\n",
              "      <th>id</th>\n",
              "      <th>reviews.text</th>\n",
              "      <th>reviews.rating</th>\n",
              "      <th>reviews.username</th>\n",
              "    </tr>\n",
              "  </thead>\n",
              "  <tbody>\n",
              "    <tr>\n",
              "      <th>0</th>\n",
              "      <td>0</td>\n",
              "      <td>AVqkIhwDv8e3D1O-lebb</td>\n",
              "      <td>This product so far has not disappointed. My c...</td>\n",
              "      <td>5.0</td>\n",
              "      <td>Adapter</td>\n",
              "    </tr>\n",
              "    <tr>\n",
              "      <th>1</th>\n",
              "      <td>1</td>\n",
              "      <td>AVqkIhwDv8e3D1O-lebb</td>\n",
              "      <td>great for beginner or experienced person. Boug...</td>\n",
              "      <td>5.0</td>\n",
              "      <td>truman</td>\n",
              "    </tr>\n",
              "    <tr>\n",
              "      <th>2</th>\n",
              "      <td>2</td>\n",
              "      <td>AVqkIhwDv8e3D1O-lebb</td>\n",
              "      <td>Inexpensive tablet for him to use and learn on...</td>\n",
              "      <td>5.0</td>\n",
              "      <td>DaveZ</td>\n",
              "    </tr>\n",
              "  </tbody>\n",
              "</table>\n",
              "</div>"
            ],
            "text/plain": [
              "   index                    id  ... reviews.rating  reviews.username\n",
              "0      0  AVqkIhwDv8e3D1O-lebb  ...            5.0           Adapter\n",
              "1      1  AVqkIhwDv8e3D1O-lebb  ...            5.0            truman\n",
              "2      2  AVqkIhwDv8e3D1O-lebb  ...            5.0             DaveZ\n",
              "\n",
              "[3 rows x 5 columns]"
            ]
          },
          "metadata": {
            "tags": []
          },
          "execution_count": 40
        }
      ]
    },
    {
      "cell_type": "markdown",
      "metadata": {
        "id": "jkg4G6Mm1zNY",
        "colab_type": "text"
      },
      "source": [
        "We can see that there is extra column of index because we changed the index. Let's just drop this column "
      ]
    },
    {
      "cell_type": "code",
      "metadata": {
        "id": "EioTIkrx1zNY",
        "colab_type": "code",
        "colab": {}
      },
      "source": [
        "nlp_data.drop(['index'], axis=1,inplace=True)"
      ],
      "execution_count": 0,
      "outputs": []
    },
    {
      "cell_type": "code",
      "metadata": {
        "id": "6nPutSQK1zNa",
        "colab_type": "code",
        "outputId": "26561707-7471-41bb-91d7-09958f9f57a2",
        "colab": {
          "base_uri": "https://localhost:8080/",
          "height": 136
        }
      },
      "source": [
        "nlp_data.head(3)"
      ],
      "execution_count": 0,
      "outputs": [
        {
          "output_type": "execute_result",
          "data": {
            "text/html": [
              "<div>\n",
              "<style scoped>\n",
              "    .dataframe tbody tr th:only-of-type {\n",
              "        vertical-align: middle;\n",
              "    }\n",
              "\n",
              "    .dataframe tbody tr th {\n",
              "        vertical-align: top;\n",
              "    }\n",
              "\n",
              "    .dataframe thead th {\n",
              "        text-align: right;\n",
              "    }\n",
              "</style>\n",
              "<table border=\"1\" class=\"dataframe\">\n",
              "  <thead>\n",
              "    <tr style=\"text-align: right;\">\n",
              "      <th></th>\n",
              "      <th>id</th>\n",
              "      <th>reviews.text</th>\n",
              "      <th>reviews.rating</th>\n",
              "      <th>reviews.username</th>\n",
              "    </tr>\n",
              "  </thead>\n",
              "  <tbody>\n",
              "    <tr>\n",
              "      <th>0</th>\n",
              "      <td>AVqkIhwDv8e3D1O-lebb</td>\n",
              "      <td>This product so far has not disappointed. My c...</td>\n",
              "      <td>5.0</td>\n",
              "      <td>Adapter</td>\n",
              "    </tr>\n",
              "    <tr>\n",
              "      <th>1</th>\n",
              "      <td>AVqkIhwDv8e3D1O-lebb</td>\n",
              "      <td>great for beginner or experienced person. Boug...</td>\n",
              "      <td>5.0</td>\n",
              "      <td>truman</td>\n",
              "    </tr>\n",
              "    <tr>\n",
              "      <th>2</th>\n",
              "      <td>AVqkIhwDv8e3D1O-lebb</td>\n",
              "      <td>Inexpensive tablet for him to use and learn on...</td>\n",
              "      <td>5.0</td>\n",
              "      <td>DaveZ</td>\n",
              "    </tr>\n",
              "  </tbody>\n",
              "</table>\n",
              "</div>"
            ],
            "text/plain": [
              "                     id  ... reviews.username\n",
              "0  AVqkIhwDv8e3D1O-lebb  ...          Adapter\n",
              "1  AVqkIhwDv8e3D1O-lebb  ...           truman\n",
              "2  AVqkIhwDv8e3D1O-lebb  ...            DaveZ\n",
              "\n",
              "[3 rows x 4 columns]"
            ]
          },
          "metadata": {
            "tags": []
          },
          "execution_count": 42
        }
      ]
    },
    {
      "cell_type": "markdown",
      "metadata": {
        "id": "su7o72NM1zNb",
        "colab_type": "text"
      },
      "source": [
        "Now we need to make Bag of words model. We are just making matrix having columns of different words and each review is a row. Row having particular word in a column is 1 otherwise 0. This matrix would have many 0s so it is often called sparse matrix"
      ]
    },
    {
      "cell_type": "code",
      "metadata": {
        "id": "FhrN8BkK1zNc",
        "colab_type": "code",
        "colab": {}
      },
      "source": [
        "from sklearn.feature_extraction.text import CountVectorizer\n",
        "cv = CountVectorizer()\n",
        "X = cv.fit_transform(corpus).toarray()\n",
        "y = nlp_data.iloc[:, 2].values "
      ],
      "execution_count": 0,
      "outputs": []
    },
    {
      "cell_type": "markdown",
      "metadata": {
        "id": "U81A2NsD1zNe",
        "colab_type": "text"
      },
      "source": [
        "Let's split the data into train and test. We are taking only 20 percent of data as test so, that our model can learn from maximum data"
      ]
    },
    {
      "cell_type": "code",
      "metadata": {
        "id": "4xa90nSq1zNf",
        "colab_type": "code",
        "colab": {}
      },
      "source": [
        "from sklearn.model_selection import train_test_split\n",
        "X_train, X_test, y_train, y_test = train_test_split(X, y, test_size = 0.20, random_state = 0)"
      ],
      "execution_count": 0,
      "outputs": []
    },
    {
      "cell_type": "code",
      "metadata": {
        "scrolled": true,
        "id": "KY_ie_f51zNg",
        "colab_type": "code",
        "outputId": "5bae986e-f5dd-48ac-b82f-e4fd2692e428",
        "colab": {
          "base_uri": "https://localhost:8080/",
          "height": 50
        }
      },
      "source": [
        "from sklearn.preprocessing import StandardScaler\n",
        "sc=StandardScaler()\n",
        "X_train=sc.fit_transform(X_train)\n",
        "X_test=sc.transform(X_test)"
      ],
      "execution_count": 0,
      "outputs": [
        {
          "output_type": "stream",
          "text": [
            "/usr/local/lib/python2.7/dist-packages/sklearn/utils/validation.py:595: DataConversionWarning: Data with input dtype int64 was converted to float64 by StandardScaler.\n",
            "  warnings.warn(msg, DataConversionWarning)\n"
          ],
          "name": "stderr"
        }
      ]
    },
    {
      "cell_type": "code",
      "metadata": {
        "id": "6Z6ViLGZ1zNi",
        "colab_type": "code",
        "outputId": "16230b5f-13c3-4eb9-ce90-475db7638e40",
        "colab": {
          "base_uri": "https://localhost:8080/",
          "height": 34
        }
      },
      "source": [
        "y_train"
      ],
      "execution_count": 0,
      "outputs": [
        {
          "output_type": "execute_result",
          "data": {
            "text/plain": [
              "array([5., 5., 4., ..., 5., 5., 2.])"
            ]
          },
          "metadata": {
            "tags": []
          },
          "execution_count": 46
        }
      ]
    },
    {
      "cell_type": "markdown",
      "metadata": {
        "id": "JnPLG6801zNk",
        "colab_type": "text"
      },
      "source": [
        "Now let's fit a Naive Bayesian model to the training dataset"
      ]
    },
    {
      "cell_type": "code",
      "metadata": {
        "id": "J1i7ZU2a1zNk",
        "colab_type": "code",
        "outputId": "014f337e-7bed-437e-e4f1-5058c2e24c94",
        "colab": {
          "base_uri": "https://localhost:8080/",
          "height": 34
        }
      },
      "source": [
        "from sklearn.naive_bayes import GaussianNB\n",
        "classifier = GaussianNB()\n",
        "classifier.fit(X_train, y_train)"
      ],
      "execution_count": 0,
      "outputs": [
        {
          "output_type": "execute_result",
          "data": {
            "text/plain": [
              "GaussianNB(priors=None, var_smoothing=1e-09)"
            ]
          },
          "metadata": {
            "tags": []
          },
          "execution_count": 42
        }
      ]
    },
    {
      "cell_type": "markdown",
      "metadata": {
        "id": "zJsGUKfb1zNm",
        "colab_type": "text"
      },
      "source": [
        "Let's predict the values based on X_test data and measure the accuracy"
      ]
    },
    {
      "cell_type": "code",
      "metadata": {
        "id": "9IoqgFke1zNm",
        "colab_type": "code",
        "colab": {}
      },
      "source": [
        "y_pred = classifier.predict(X_test)"
      ],
      "execution_count": 0,
      "outputs": []
    },
    {
      "cell_type": "markdown",
      "metadata": {
        "id": "66G5a4C61zNo",
        "colab_type": "text"
      },
      "source": [
        "Let's see the confusion matrix. "
      ]
    },
    {
      "cell_type": "code",
      "metadata": {
        "id": "Y_Kaa0Do1zNo",
        "colab_type": "code",
        "colab": {}
      },
      "source": [
        "from sklearn.metrics import confusion_matrix\n",
        "cm = confusion_matrix(y_test, y_pred)"
      ],
      "execution_count": 0,
      "outputs": []
    },
    {
      "cell_type": "code",
      "metadata": {
        "id": "mytsDGOD1zNr",
        "colab_type": "code",
        "outputId": "cdde3577-327d-486d-cde9-9693036dbd4c",
        "colab": {
          "base_uri": "https://localhost:8080/",
          "height": 101
        }
      },
      "source": [
        "cm"
      ],
      "execution_count": 0,
      "outputs": [
        {
          "output_type": "execute_result",
          "data": {
            "text/plain": [
              "array([[  28,    5,   19,   21,    3],\n",
              "       [  26,    6,   14,   23,   10],\n",
              "       [  99,   34,   65,   64,   26],\n",
              "       [ 644,  226,  310,  382,  126],\n",
              "       [1837,  651,  938, 1014,  355]])"
            ]
          },
          "metadata": {
            "tags": []
          },
          "execution_count": 45
        }
      ]
    },
    {
      "cell_type": "markdown",
      "metadata": {
        "id": "oFFM2Irf1zNt",
        "colab_type": "text"
      },
      "source": [
        "Let's see how many of reviews were correctly rated."
      ]
    },
    {
      "cell_type": "code",
      "metadata": {
        "id": "VHrewP6M1zNt",
        "colab_type": "code",
        "colab": {}
      },
      "source": [
        "s=pd.DataFrame({'true':y_test,'pred':y_pred})"
      ],
      "execution_count": 0,
      "outputs": []
    },
    {
      "cell_type": "code",
      "metadata": {
        "id": "3fDZSUa01zNv",
        "colab_type": "code",
        "outputId": "d7cba2f1-d186-4eb9-bb09-3f09d429c41a",
        "colab": {
          "base_uri": "https://localhost:8080/",
          "height": 34
        }
      },
      "source": [
        "s.shape"
      ],
      "execution_count": 0,
      "outputs": [
        {
          "output_type": "execute_result",
          "data": {
            "text/plain": [
              "(6926, 2)"
            ]
          },
          "metadata": {
            "tags": []
          },
          "execution_count": 47
        }
      ]
    },
    {
      "cell_type": "code",
      "metadata": {
        "id": "JRmvK9ir1zNw",
        "colab_type": "code",
        "colab": {}
      },
      "source": [
        "correct_pred=s[s['true']==s['pred']]"
      ],
      "execution_count": 0,
      "outputs": []
    },
    {
      "cell_type": "code",
      "metadata": {
        "id": "AQpCCEIz1zNy",
        "colab_type": "code",
        "outputId": "3e7befa3-6545-4ce3-d7c0-c512f14ec217",
        "colab": {
          "base_uri": "https://localhost:8080/",
          "height": 34
        }
      },
      "source": [
        "correct_pred.shape"
      ],
      "execution_count": 0,
      "outputs": [
        {
          "output_type": "execute_result",
          "data": {
            "text/plain": [
              "(836, 2)"
            ]
          },
          "metadata": {
            "tags": []
          },
          "execution_count": 49
        }
      ]
    },
    {
      "cell_type": "markdown",
      "metadata": {
        "id": "y9cNbv2s1zNz",
        "colab_type": "text"
      },
      "source": [
        "We can see only 836 variables have been correctly predicted which is very low and gives accuracy of 12 % only"
      ]
    },
    {
      "cell_type": "markdown",
      "metadata": {
        "id": "z1XbmUo01zNz",
        "colab_type": "text"
      },
      "source": [
        "Let's use K fold cross validation to measure the correct accuracy of the model"
      ]
    },
    {
      "cell_type": "code",
      "metadata": {
        "id": "kqAcaCWY1zN1",
        "colab_type": "code",
        "colab": {}
      },
      "source": [
        "from sklearn.model_selection import cross_val_score\n",
        "accuracies=cross_val_score(estimator=classifier,X=X_train,y=y_train,cv=10)"
      ],
      "execution_count": 0,
      "outputs": []
    },
    {
      "cell_type": "code",
      "metadata": {
        "id": "Olb5Y2dT1zN3",
        "colab_type": "code",
        "outputId": "70862240-2bb7-4a7b-95ee-9f373f3978f0",
        "colab": {
          "base_uri": "https://localhost:8080/",
          "height": 50
        }
      },
      "source": [
        "accuracies"
      ],
      "execution_count": 0,
      "outputs": [
        {
          "output_type": "execute_result",
          "data": {
            "text/plain": [
              "array([0.13306888, 0.13167388, 0.12698413, 0.1234657 , 0.13181654,\n",
              "       0.13217768, 0.13181654, 0.13217768, 0.12423257, 0.12608382])"
            ]
          },
          "metadata": {
            "tags": []
          },
          "execution_count": 51
        }
      ]
    },
    {
      "cell_type": "markdown",
      "metadata": {
        "id": "ohPrQsLT1zN5",
        "colab_type": "text"
      },
      "source": [
        "Let's actually try to cross validate the model using the whole datasets"
      ]
    },
    {
      "cell_type": "code",
      "metadata": {
        "id": "v-UDlYbX1zN5",
        "colab_type": "code",
        "colab": {}
      },
      "source": [
        "accuracies=cross_val_score(estimator=classifier,X=X,y=y,cv=10)"
      ],
      "execution_count": 0,
      "outputs": []
    },
    {
      "cell_type": "code",
      "metadata": {
        "id": "Z_xq7x4M1zN7",
        "colab_type": "code",
        "outputId": "88a68eba-e9d3-44ad-d16b-a5a3ace68a76",
        "colab": {}
      },
      "source": [
        "accuracies"
      ],
      "execution_count": 0,
      "outputs": [
        {
          "output_type": "execute_result",
          "data": {
            "text/plain": [
              "array([0.0984127 , 0.10796767, 0.09153913, 0.09096159, 0.11207395,\n",
              "       0.11842865, 0.14789139, 0.1565569 , 0.14269209, 0.14851199])"
            ]
          },
          "metadata": {
            "tags": []
          },
          "execution_count": 52
        }
      ]
    },
    {
      "cell_type": "code",
      "metadata": {
        "id": "ZtuyZGID1zN9",
        "colab_type": "code",
        "outputId": "1e3726e6-b55f-4e94-ce9e-971d35cf1788",
        "colab": {}
      },
      "source": [
        "accuracies.max()"
      ],
      "execution_count": 0,
      "outputs": [
        {
          "output_type": "execute_result",
          "data": {
            "text/plain": [
              "0.15655690352397458"
            ]
          },
          "metadata": {
            "tags": []
          },
          "execution_count": 53
        }
      ]
    },
    {
      "cell_type": "code",
      "metadata": {
        "id": "zp09mBjh1zN-",
        "colab_type": "code",
        "colab": {}
      },
      "source": [
        "import matplotlib.pyplot as plt"
      ],
      "execution_count": 0,
      "outputs": []
    },
    {
      "cell_type": "code",
      "metadata": {
        "id": "0SxqvZ-A1zOD",
        "colab_type": "code",
        "outputId": "57b100d0-5b76-45ad-f292-60500295fb11",
        "colab": {}
      },
      "source": [
        "plt.plot(accuracies)\n",
        "plt.xlabel(\"No of validations\")\n",
        "plt.ylabel(\"Accuracy\")\n",
        "plt.title(\"Accuracy for Naive Bayes Theorem\")"
      ],
      "execution_count": 0,
      "outputs": [
        {
          "output_type": "execute_result",
          "data": {
            "text/plain": [
              "[<matplotlib.lines.Line2D at 0x11c826d8>]"
            ]
          },
          "metadata": {
            "tags": []
          },
          "execution_count": 55
        },
        {
          "output_type": "display_data",
          "data": {
            "image/png": "[encoded data removed]",
            "text/plain": [
              "<Figure size 432x288 with 1 Axes>"
            ]
          },
          "metadata": {
            "tags": [],
            "needs_background": "light"
          }
        }
      ]
    },
    {
      "cell_type": "markdown",
      "metadata": {
        "id": "CFkJdspz1zOE",
        "colab_type": "text"
      },
      "source": [
        "Clearly this model is not working good. Let's try other models"
      ]
    },
    {
      "cell_type": "markdown",
      "metadata": {
        "id": "kmbWXIwr1zOF",
        "colab_type": "text"
      },
      "source": [
        "Let's try Support Vector Machine Model. I truied to run the SVM Model but it took like a lot of time without any success. The reason is that SVM might not be a good model for this data because The SVM is usually trained using the dual objective. In this case, it needs to use a matrix called the Gram or kernel matrix that contains the similarities between all examples. Therefore with N examples, this matrix contains N^2 elements. When the dataset is large, e.g. larger that 100,000 examples, this costs a lot of time.\n",
        "There are ways to circumvent this such as adding only examples which are further than some constant epsilon away from any other example, but research has shown that the final model loses some accuracy if such a trick is used."
      ]
    },
    {
      "cell_type": "code",
      "metadata": {
        "id": "p35q6DmG1zOF",
        "colab_type": "code",
        "colab": {}
      },
      "source": [
        "# from sklearn.svm import SVC\n",
        "# classifier_svm=SVC(kernel='linear')\n",
        "# accuracies_svm=cross_val_score(estimator=classifier_svm,X=X_train,y=y_train,cv=10)"
      ],
      "execution_count": 0,
      "outputs": []
    },
    {
      "cell_type": "markdown",
      "metadata": {
        "id": "9Wt0bgG61zOI",
        "colab_type": "text"
      },
      "source": [
        "let's apply decision tree and see the accuracy"
      ]
    },
    {
      "cell_type": "code",
      "metadata": {
        "id": "HBwBBAqS1zOK",
        "colab_type": "code",
        "outputId": "9f58e660-4142-4b55-9611-112a3605b095",
        "colab": {}
      },
      "source": [
        "from sklearn.tree import DecisionTreeClassifier\n",
        "classifier_dt= DecisionTreeClassifier(criterion='entropy')\n",
        "classifier_dt.fit(X_train,y_train)"
      ],
      "execution_count": 0,
      "outputs": [
        {
          "output_type": "execute_result",
          "data": {
            "text/plain": [
              "DecisionTreeClassifier(class_weight=None, criterion='entropy', max_depth=None,\n",
              "            max_features=None, max_leaf_nodes=None,\n",
              "            min_impurity_decrease=0.0, min_impurity_split=None,\n",
              "            min_samples_leaf=1, min_samples_split=2,\n",
              "            min_weight_fraction_leaf=0.0, presort=False, random_state=None,\n",
              "            splitter='best')"
            ]
          },
          "metadata": {
            "tags": []
          },
          "execution_count": 56
        }
      ]
    },
    {
      "cell_type": "code",
      "metadata": {
        "id": "Ojxx2vzr1zOL",
        "colab_type": "code",
        "colab": {}
      },
      "source": [
        "y_pred_dt=classifier_dt.predict(X_test)"
      ],
      "execution_count": 0,
      "outputs": []
    },
    {
      "cell_type": "code",
      "metadata": {
        "id": "ThbkoSEk1zON",
        "colab_type": "code",
        "colab": {}
      },
      "source": [
        "cm_dt=confusion_matrix(y_test,y_pred_dt)"
      ],
      "execution_count": 0,
      "outputs": []
    },
    {
      "cell_type": "code",
      "metadata": {
        "id": "Sgq3L5QO1zOO",
        "colab_type": "code",
        "outputId": "e354fbac-2a1e-414e-8ad7-fa9756e2f030",
        "colab": {}
      },
      "source": [
        "cm_dt"
      ],
      "execution_count": 0,
      "outputs": [
        {
          "output_type": "execute_result",
          "data": {
            "text/plain": [
              "array([[  14,    4,    4,   15,   39],\n",
              "       [   9,    2,   11,   23,   34],\n",
              "       [  14,    6,   35,   91,  142],\n",
              "       [  13,   18,   94,  549, 1014],\n",
              "       [  27,   34,  108,  936, 3690]], dtype=int64)"
            ]
          },
          "metadata": {
            "tags": []
          },
          "execution_count": 59
        }
      ]
    },
    {
      "cell_type": "code",
      "metadata": {
        "id": "Lub_KGgl1zOR",
        "colab_type": "code",
        "outputId": "b9ee0db9-2024-4a3c-eaee-a3b5283f7f4b",
        "colab": {}
      },
      "source": [
        "s_dt=pd.DataFrame({'true':y_test,'pred':y_pred_dt})\n",
        "s_dt.shape"
      ],
      "execution_count": 0,
      "outputs": [
        {
          "output_type": "execute_result",
          "data": {
            "text/plain": [
              "(6926, 2)"
            ]
          },
          "metadata": {
            "tags": []
          },
          "execution_count": 67
        }
      ]
    },
    {
      "cell_type": "code",
      "metadata": {
        "id": "1ANfQLvF1zOS",
        "colab_type": "code",
        "outputId": "f67a349c-6871-4f57-c0fe-3fff08361b21",
        "colab": {}
      },
      "source": [
        "correct_pred_dt=s_dt[s_dt['true']==s_dt['pred']]\n",
        "correct_pred_dt.shape"
      ],
      "execution_count": 0,
      "outputs": [
        {
          "output_type": "execute_result",
          "data": {
            "text/plain": [
              "(4290, 2)"
            ]
          },
          "metadata": {
            "tags": []
          },
          "execution_count": 70
        }
      ]
    },
    {
      "cell_type": "code",
      "metadata": {
        "id": "wXhsRxcM1zOT",
        "colab_type": "code",
        "colab": {}
      },
      "source": [
        "accuracies_dt=cross_val_score(estimator=classifier_dt,X=X_train,y=y_train,cv=10)"
      ],
      "execution_count": 0,
      "outputs": []
    },
    {
      "cell_type": "code",
      "metadata": {
        "id": "jhABjQg91zOU",
        "colab_type": "code",
        "outputId": "fefd057c-127a-4145-980f-d5d83995b9a3",
        "colab": {}
      },
      "source": [
        "accuracies_dt"
      ],
      "execution_count": 0,
      "outputs": [
        {
          "output_type": "execute_result",
          "data": {
            "text/plain": [
              "array([0.60872701, 0.61363636, 0.61507937, 0.62202166, 0.61357891,\n",
              "       0.61899603, 0.61574576, 0.61105092, 0.60852293, 0.59501445])"
            ]
          },
          "metadata": {
            "tags": []
          },
          "execution_count": 65
        }
      ]
    },
    {
      "cell_type": "code",
      "metadata": {
        "id": "Ez4iG9Tq1zOV",
        "colab_type": "code",
        "outputId": "2bc46fed-99b7-4de8-f8c5-c2e5112c3bde",
        "colab": {}
      },
      "source": [
        "plt.plot(accuracies_dt)"
      ],
      "execution_count": 0,
      "outputs": [
        {
          "output_type": "execute_result",
          "data": {
            "text/plain": [
              "[<matplotlib.lines.Line2D at 0x12335908>]"
            ]
          },
          "metadata": {
            "tags": []
          },
          "execution_count": 66
        },
        {
          "output_type": "display_data",
          "data": {
            "image/png": "[encoded data removed]",
            "text/plain": [
              "<Figure size 432x288 with 1 Axes>"
            ]
          },
          "metadata": {
            "tags": [],
            "needs_background": "light"
          }
        }
      ]
    },
    {
      "cell_type": "markdown",
      "metadata": {
        "id": "_gMS51wf1zOX",
        "colab_type": "text"
      },
      "source": [
        "Let's try Random forest"
      ]
    },
    {
      "cell_type": "code",
      "metadata": {
        "id": "U7N9Fivw1zOX",
        "colab_type": "code",
        "colab": {}
      },
      "source": [
        "from sklearn.ensemble import RandomForestClassifier\n"
      ],
      "execution_count": 0,
      "outputs": []
    },
    {
      "cell_type": "code",
      "metadata": {
        "id": "GNEvMnYL1zOY",
        "colab_type": "code",
        "colab": {}
      },
      "source": [
        "classifier_rf=RandomForestClassifier(n_estimators=10, criterion='entropy')\n",
        "classifier_rf.fit(X_train,y_train)\n",
        "y_pred_rf=classifier_rf.predict(X_test)"
      ],
      "execution_count": 0,
      "outputs": []
    },
    {
      "cell_type": "code",
      "metadata": {
        "id": "IRhcbXQO1zOb",
        "colab_type": "code",
        "outputId": "8eb1a175-0c58-460c-e07a-513e7ea1c251",
        "colab": {}
      },
      "source": [
        "cm_rf=confusion_matrix(y_test,y_pred_rf)\n",
        "cm_rf"
      ],
      "execution_count": 0,
      "outputs": [
        {
          "output_type": "execute_result",
          "data": {
            "text/plain": [
              "array([[   5,    3,    3,   14,   51],\n",
              "       [   1,    0,    3,   21,   54],\n",
              "       [   3,    0,   17,   66,  202],\n",
              "       [   0,    3,   14,  359, 1312],\n",
              "       [   5,    6,   14,  411, 4359]], dtype=int64)"
            ]
          },
          "metadata": {
            "tags": []
          },
          "execution_count": 77
        }
      ]
    },
    {
      "cell_type": "code",
      "metadata": {
        "id": "X43CPvM01zOc",
        "colab_type": "code",
        "outputId": "0588c670-5f44-4cf6-c3a4-19980c72edd7",
        "colab": {}
      },
      "source": [
        "s_rf=pd.DataFrame({'true':y_test,'pred':y_pred_rf})\n",
        "s_rf.shape"
      ],
      "execution_count": 0,
      "outputs": [
        {
          "output_type": "execute_result",
          "data": {
            "text/plain": [
              "(6926, 2)"
            ]
          },
          "metadata": {
            "tags": []
          },
          "execution_count": 78
        }
      ]
    },
    {
      "cell_type": "code",
      "metadata": {
        "id": "f4U37vyh1zOe",
        "colab_type": "code",
        "outputId": "0ed3f8e1-ff55-4825-865c-e624021d480b",
        "colab": {}
      },
      "source": [
        "correct_pred_rf=s_rf[s_rf['true']==s_rf['pred']]\n",
        "correct_pred_rf.shape"
      ],
      "execution_count": 0,
      "outputs": [
        {
          "output_type": "execute_result",
          "data": {
            "text/plain": [
              "(4740, 2)"
            ]
          },
          "metadata": {
            "tags": []
          },
          "execution_count": 79
        }
      ]
    },
    {
      "cell_type": "code",
      "metadata": {
        "id": "jVrIj8BX1zOf",
        "colab_type": "code",
        "outputId": "a0802e40-914d-4076-e224-895eeb5c9d2b",
        "colab": {}
      },
      "source": [
        "accuracies_rf=cross_val_score(estimator=classifier_rf,X=X_train,y=y_train,cv=10)\n",
        "accuracies_rf"
      ],
      "execution_count": 0,
      "outputs": [
        {
          "output_type": "execute_result",
          "data": {
            "text/plain": [
              "array([0.67508114, 0.68181818, 0.67568543, 0.666787  , 0.67244493,\n",
              "       0.67677862, 0.6756952 , 0.67894547, 0.66413868, 0.67232659])"
            ]
          },
          "metadata": {
            "tags": []
          },
          "execution_count": 80
        }
      ]
    },
    {
      "cell_type": "code",
      "metadata": {
        "id": "ZvNor8Wt1zOh",
        "colab_type": "code",
        "outputId": "cf66f7c2-03dc-4fee-c8a1-8c73bccc05c6",
        "colab": {}
      },
      "source": [
        "classifier_rf_1=RandomForestClassifier(n_estimators=15, criterion='entropy')\n",
        "accuracies_rf_1=cross_val_score(estimator=classifier_rf_1,X=X_train,y=y_train,cv=10)\n",
        "accuracies_rf_1"
      ],
      "execution_count": 0,
      "outputs": [
        {
          "output_type": "execute_result",
          "data": {
            "text/plain": [
              "array([0.69383339, 0.68975469, 0.69011544, 0.68447653, 0.69302997,\n",
              "       0.69989166, 0.6818346 , 0.69050199, 0.69194655, 0.69183526])"
            ]
          },
          "metadata": {
            "tags": []
          },
          "execution_count": 83
        }
      ]
    },
    {
      "cell_type": "code",
      "metadata": {
        "id": "knx5E_1s1zOk",
        "colab_type": "code",
        "outputId": "5a1a5efc-26fb-4f47-9750-38a0ba0630ef",
        "colab": {}
      },
      "source": [
        "classifier_rf_2=RandomForestClassifier(n_estimators=20, criterion='entropy')\n",
        "accuracies_rf_2=cross_val_score(estimator=classifier_rf_2,X=X_train,y=y_train,cv=10)\n",
        "accuracies_rf_2"
      ],
      "execution_count": 0,
      "outputs": [
        {
          "output_type": "execute_result",
          "data": {
            "text/plain": [
              "array([0.69239091, 0.68795094, 0.68831169, 0.69277978, 0.68219574,\n",
              "       0.7020585 , 0.68689057, 0.69772481, 0.68436259, 0.68641618])"
            ]
          },
          "metadata": {
            "tags": []
          },
          "execution_count": 84
        }
      ]
    },
    {
      "cell_type": "code",
      "metadata": {
        "id": "qASrjSbb1zOl",
        "colab_type": "code",
        "outputId": "dd18d69e-d2d9-4f60-ceda-2f51e811b613",
        "colab": {}
      },
      "source": [
        "classifier_rf_3=RandomForestClassifier(n_estimators=25, criterion='entropy')\n",
        "accuracies_rf_3=cross_val_score(estimator=classifier_rf_3,X=X_train,y=y_train,cv=10)\n",
        "accuracies_rf_3"
      ],
      "execution_count": 0,
      "outputs": [
        {
          "output_type": "execute_result",
          "data": {
            "text/plain": [
              "array([0.69816084, 0.6955267 , 0.69805195, 0.69314079, 0.69194655,\n",
              "       0.7020585 , 0.69266883, 0.69628025, 0.69555796, 0.6925578 ])"
            ]
          },
          "metadata": {
            "tags": []
          },
          "execution_count": 85
        }
      ]
    },
    {
      "cell_type": "code",
      "metadata": {
        "id": "-uJIx8VK1zOm",
        "colab_type": "code",
        "outputId": "5b158f74-2a33-4a28-808a-690c80f01fe2",
        "colab": {}
      },
      "source": [
        "classifier_rf_4=RandomForestClassifier(n_estimators=12, criterion='entropy')\n",
        "accuracies_rf_4=cross_val_score(estimator=classifier_rf_4,X=X_train,y=y_train,cv=10)\n",
        "accuracies_rf_4"
      ],
      "execution_count": 0,
      "outputs": [
        {
          "output_type": "execute_result",
          "data": {
            "text/plain": [
              "array([0.68589975, 0.68831169, 0.68073593, 0.67364621, 0.67208378,\n",
              "       0.68833514, 0.66594438, 0.68436259, 0.68111231, 0.68858382])"
            ]
          },
          "metadata": {
            "tags": []
          },
          "execution_count": 86
        }
      ]
    },
    {
      "cell_type": "code",
      "metadata": {
        "id": "3hfCb9yp1zOn",
        "colab_type": "code",
        "outputId": "1b85bfd9-76fb-4a43-c4e5-e4caa984a2a5",
        "colab": {}
      },
      "source": [
        "classifier_rf_5=RandomForestClassifier(n_estimators=30, criterion='entropy')\n",
        "accuracies_rf_5=cross_val_score(estimator=classifier_rf_5,X=X_train,y=y_train,cv=10)\n",
        "accuracies_rf_5"
      ],
      "execution_count": 0,
      "outputs": [
        {
          "output_type": "execute_result",
          "data": {
            "text/plain": [
              "array([0.69203029, 0.69588745, 0.70021645, 0.69494585, 0.69555796,\n",
              "       0.70458649, 0.68039003, 0.70458649, 0.69772481, 0.70195087])"
            ]
          },
          "metadata": {
            "tags": []
          },
          "execution_count": 87
        }
      ]
    },
    {
      "cell_type": "code",
      "metadata": {
        "id": "ziVOa_nk1zOo",
        "colab_type": "code",
        "outputId": "2be413a3-0b62-43f9-fdcb-04e9995639d3",
        "colab": {}
      },
      "source": [
        "classifier_rf_6=RandomForestClassifier(n_estimators=40, criterion='entropy')\n",
        "accuracies_rf_6=cross_val_score(estimator=classifier_rf_6,X=X_train,y=y_train,cv=10)\n",
        "accuracies_rf_6"
      ],
      "execution_count": 0,
      "outputs": [
        {
          "output_type": "execute_result",
          "data": {
            "text/plain": [
              "array([0.6974396 , 0.69949495, 0.6969697 , 0.69530686, 0.69483568,\n",
              "       0.7020585 , 0.6897797 , 0.69916938, 0.69700253, 0.6875    ])"
            ]
          },
          "metadata": {
            "tags": []
          },
          "execution_count": 88
        }
      ]
    },
    {
      "cell_type": "code",
      "metadata": {
        "id": "RblyCxkE1zOp",
        "colab_type": "code",
        "colab": {}
      },
      "source": [
        "def average(lst): \n",
        "    return sum(lst) / len(lst)"
      ],
      "execution_count": 0,
      "outputs": []
    },
    {
      "cell_type": "code",
      "metadata": {
        "id": "f-whM6Er1zOq",
        "colab_type": "code",
        "colab": {}
      },
      "source": [
        "accuracy_table=pd.DataFrame({'n_estimators':[10,12,15,20,25,30,40],'avg_accuracy':[average(accuracies_rf),average(accuracies_rf_4),average(accuracies_rf_1),average(accuracies_rf_2),average(accuracies_rf_3),average(accuracies_rf_5),average(accuracies_rf_6)]})"
      ],
      "execution_count": 0,
      "outputs": []
    },
    {
      "cell_type": "code",
      "metadata": {
        "id": "fdhBIrpQ1zOr",
        "colab_type": "code",
        "outputId": "722d5d87-7100-4d2e-fe21-ceaa23789071",
        "colab": {}
      },
      "source": [
        "accuracy_table"
      ],
      "execution_count": 0,
      "outputs": [
        {
          "output_type": "execute_result",
          "data": {
            "text/html": [
              "<div>\n",
              "<style scoped>\n",
              "    .dataframe tbody tr th:only-of-type {\n",
              "        vertical-align: middle;\n",
              "    }\n",
              "\n",
              "    .dataframe tbody tr th {\n",
              "        vertical-align: top;\n",
              "    }\n",
              "\n",
              "    .dataframe thead th {\n",
              "        text-align: right;\n",
              "    }\n",
              "</style>\n",
              "<table border=\"1\" class=\"dataframe\">\n",
              "  <thead>\n",
              "    <tr style=\"text-align: right;\">\n",
              "      <th></th>\n",
              "      <th>avg_accuracy</th>\n",
              "      <th>n_estimators</th>\n",
              "    </tr>\n",
              "  </thead>\n",
              "  <tbody>\n",
              "    <tr>\n",
              "      <th>0</th>\n",
              "      <td>0.693103</td>\n",
              "      <td>10</td>\n",
              "    </tr>\n",
              "    <tr>\n",
              "      <th>1</th>\n",
              "      <td>0.680902</td>\n",
              "      <td>12</td>\n",
              "    </tr>\n",
              "    <tr>\n",
              "      <th>2</th>\n",
              "      <td>0.690722</td>\n",
              "      <td>15</td>\n",
              "    </tr>\n",
              "    <tr>\n",
              "      <th>3</th>\n",
              "      <td>0.690108</td>\n",
              "      <td>20</td>\n",
              "    </tr>\n",
              "    <tr>\n",
              "      <th>4</th>\n",
              "      <td>0.695595</td>\n",
              "      <td>25</td>\n",
              "    </tr>\n",
              "    <tr>\n",
              "      <th>5</th>\n",
              "      <td>0.696788</td>\n",
              "      <td>30</td>\n",
              "    </tr>\n",
              "    <tr>\n",
              "      <th>6</th>\n",
              "      <td>0.695956</td>\n",
              "      <td>40</td>\n",
              "    </tr>\n",
              "  </tbody>\n",
              "</table>\n",
              "</div>"
            ],
            "text/plain": [
              "   avg_accuracy  n_estimators\n",
              "0      0.693103            10\n",
              "1      0.680902            12\n",
              "2      0.690722            15\n",
              "3      0.690108            20\n",
              "4      0.695595            25\n",
              "5      0.696788            30\n",
              "6      0.695956            40"
            ]
          },
          "metadata": {
            "tags": []
          },
          "execution_count": 95
        }
      ]
    },
    {
      "cell_type": "code",
      "metadata": {
        "id": "XPHhDk7y1zOs",
        "colab_type": "code",
        "outputId": "70136771-bca4-435a-bf55-2c999ab30d02",
        "colab": {}
      },
      "source": [
        "plt.plot(accuracy_table['n_estimators'],accuracy_table['avg_accuracy'])"
      ],
      "execution_count": 0,
      "outputs": [
        {
          "output_type": "execute_result",
          "data": {
            "text/plain": [
              "[<matplotlib.lines.Line2D at 0x127284e0>]"
            ]
          },
          "metadata": {
            "tags": []
          },
          "execution_count": 96
        },
        {
          "output_type": "display_data",
          "data": {
            "image/png": "[encoded data removed]",
            "text/plain": [
              "<Figure size 432x288 with 1 Axes>"
            ]
          },
          "metadata": {
            "tags": [],
            "needs_background": "light"
          }
        }
      ]
    },
    {
      "cell_type": "markdown",
      "metadata": {
        "id": "HMt67W0K1zOt",
        "colab_type": "text"
      },
      "source": [
        "We can see that we are using maximum accuracy at n_estimators as 30"
      ]
    },
    {
      "cell_type": "markdown",
      "metadata": {
        "id": "i6U_Zpop1zOu",
        "colab_type": "text"
      },
      "source": [
        "Let's test our model once"
      ]
    },
    {
      "cell_type": "code",
      "metadata": {
        "id": "0k3BiKos1zOu",
        "colab_type": "code",
        "outputId": "90f2fd0a-2874-4dbb-a2ac-709a65f103de",
        "colab": {}
      },
      "source": [
        "x_1=\"I love the product, its really long lasting\"\n",
        "x_2=\"I hated the product, it was such a waste of money\"\n",
        "x_3=\"I fucking loved it\"\n",
        "x_4=\"Using this product was a nightmare\"\n",
        "sample=pd.DataFrame([x_1,x_2,x_3,x_4],columns=['review_sample'])\n",
        "sample.shape"
      ],
      "execution_count": 0,
      "outputs": [
        {
          "output_type": "execute_result",
          "data": {
            "text/plain": [
              "(4, 1)"
            ]
          },
          "metadata": {
            "tags": []
          },
          "execution_count": 101
        }
      ]
    },
    {
      "cell_type": "code",
      "metadata": {
        "id": "80ohgU7R1zOw",
        "colab_type": "code",
        "outputId": "85158756-1582-488a-f9e7-6b3e5c62aff2",
        "colab": {}
      },
      "source": [
        "review_1 = re.sub('[^a-zA-Z]', ' ', sample['review_sample'][0])\n",
        "review_1"
      ],
      "execution_count": 0,
      "outputs": [
        {
          "output_type": "execute_result",
          "data": {
            "text/plain": [
              "'I love the product  its really long lasting'"
            ]
          },
          "metadata": {
            "tags": []
          },
          "execution_count": 100
        }
      ]
    },
    {
      "cell_type": "code",
      "metadata": {
        "id": "NdlB8hZ01zOz",
        "colab_type": "code",
        "colab": {}
      },
      "source": [
        "error_sample=[]\n",
        "corpus_sample = []\n",
        "for i in range(0, 5):\n",
        "    try:\n",
        "        review_1 = re.sub('[^a-zA-Z]', ' ',sample['review_sample'][i])\n",
        "        review_1 = review_1.lower()\n",
        "        review_1 = review_1.split()\n",
        "        review_1 = [ps.stem(word) for word in review_1 if not word in set(stopwords.words('english'))]\n",
        "        review_1 = ' '.join(review_1)\n",
        "        corpus_sample.append(review_1)\n",
        "    except:\n",
        "        error_sample.extend(review_1)"
      ],
      "execution_count": 0,
      "outputs": []
    },
    {
      "cell_type": "code",
      "metadata": {
        "id": "OuhGMBOM1zO2",
        "colab_type": "code",
        "outputId": "e6d27942-85d3-4c31-ec35-6caf7be74e10",
        "colab": {}
      },
      "source": [
        "len(corpus_sample)"
      ],
      "execution_count": 0,
      "outputs": [
        {
          "output_type": "execute_result",
          "data": {
            "text/plain": [
              "4"
            ]
          },
          "metadata": {
            "tags": []
          },
          "execution_count": 161
        }
      ]
    },
    {
      "cell_type": "code",
      "metadata": {
        "id": "22jxrAlK1zO3",
        "colab_type": "code",
        "colab": {}
      },
      "source": [
        "corpus_sample=corpus+corpus_sample"
      ],
      "execution_count": 0,
      "outputs": []
    },
    {
      "cell_type": "code",
      "metadata": {
        "id": "2526G6H51zO4",
        "colab_type": "code",
        "outputId": "86a923ff-c87f-4d28-da94-6f443711cc5d",
        "colab": {}
      },
      "source": [
        "len(corpus_sample)"
      ],
      "execution_count": 0,
      "outputs": [
        {
          "output_type": "execute_result",
          "data": {
            "text/plain": [
              "34630"
            ]
          },
          "metadata": {
            "tags": []
          },
          "execution_count": 163
        }
      ]
    },
    {
      "cell_type": "code",
      "metadata": {
        "id": "lswxAD6B1zO5",
        "colab_type": "code",
        "colab": {}
      },
      "source": [
        "from sklearn.feature_extraction.text import CountVectorizer\n",
        "cv = CountVectorizer()\n",
        "X_sample = cv.fit_transform(corpus_sample).toarray()\n",
        "y_sample = nlp_data.iloc[:, 2].values"
      ],
      "execution_count": 0,
      "outputs": []
    },
    {
      "cell_type": "code",
      "metadata": {
        "id": "jeC_W4Mj1zO6",
        "colab_type": "code",
        "outputId": "44302344-b26e-453f-99dd-0cf2da730a98",
        "colab": {}
      },
      "source": [
        "X_sample[34626:].shape"
      ],
      "execution_count": 0,
      "outputs": [
        {
          "output_type": "execute_result",
          "data": {
            "text/plain": [
              "(4L, 9105L)"
            ]
          },
          "metadata": {
            "tags": []
          },
          "execution_count": 221
        }
      ]
    },
    {
      "cell_type": "code",
      "metadata": {
        "id": "zjBq7wQK1zO7",
        "colab_type": "code",
        "outputId": "1808030a-482e-4ac8-b146-1fe551e45d9f",
        "colab": {}
      },
      "source": [
        "y_sample.shape"
      ],
      "execution_count": 0,
      "outputs": [
        {
          "output_type": "execute_result",
          "data": {
            "text/plain": [
              "(34626L,)"
            ]
          },
          "metadata": {
            "tags": []
          },
          "execution_count": 216
        }
      ]
    },
    {
      "cell_type": "code",
      "metadata": {
        "id": "k84sMV6I1zO_",
        "colab_type": "code",
        "colab": {}
      },
      "source": [
        "from sklearn.preprocessing import StandardScaler\n",
        "sc=StandardScaler()\n",
        "X_train_sample=sc.fit_transform(X_sample[:34626])\n",
        "X_test_sample=sc.transform(X_sample[34626:])"
      ],
      "execution_count": 0,
      "outputs": []
    },
    {
      "cell_type": "code",
      "metadata": {
        "id": "31SdtwN71zPA",
        "colab_type": "code",
        "outputId": "759a413c-01c0-4794-dd6f-7b06631e27e4",
        "colab": {}
      },
      "source": [
        "classifier_forest=RandomForestClassifier(n_estimators=30, criterion='entropy')\n",
        "classifier_forest.fit(X_train_sample,y_sample)"
      ],
      "execution_count": 0,
      "outputs": [
        {
          "output_type": "execute_result",
          "data": {
            "text/plain": [
              "RandomForestClassifier(bootstrap=True, class_weight=None, criterion='entropy',\n",
              "            max_depth=None, max_features='auto', max_leaf_nodes=None,\n",
              "            min_impurity_decrease=0.0, min_impurity_split=None,\n",
              "            min_samples_leaf=1, min_samples_split=2,\n",
              "            min_weight_fraction_leaf=0.0, n_estimators=30, n_jobs=None,\n",
              "            oob_score=False, random_state=None, verbose=0,\n",
              "            warm_start=False)"
            ]
          },
          "metadata": {
            "tags": []
          },
          "execution_count": 223
        }
      ]
    },
    {
      "cell_type": "code",
      "metadata": {
        "id": "vfDFqTYy1zPB",
        "colab_type": "code",
        "outputId": "6d8bb9bb-8f97-4ed3-d7a5-e8d682c295b5",
        "colab": {}
      },
      "source": [
        "classifier_forest.predict(X_test_sample)"
      ],
      "execution_count": 0,
      "outputs": [
        {
          "output_type": "execute_result",
          "data": {
            "text/plain": [
              "array([5., 1., 5., 5.])"
            ]
          },
          "metadata": {
            "tags": []
          },
          "execution_count": 224
        }
      ]
    },
    {
      "cell_type": "markdown",
      "metadata": {
        "id": "uqbRk_zJ1zPD",
        "colab_type": "text"
      },
      "source": [
        "### Now'let's use KNN to it and see if it increases the performance or not. I tried to do K Nearest Neighbors but due to data high dimensionality. KNN is not fit for this assignment."
      ]
    },
    {
      "cell_type": "code",
      "metadata": {
        "id": "pzo7V1HX1zPD",
        "colab_type": "code",
        "colab": {}
      },
      "source": [
        "# from sklearn.model_selection import cross_val_score\n",
        "# from sklearn.neighbors import KNeighborsClassifier\n",
        "# classifier_neighbor=KNeighborsClassifier(n_neighbors=5)\n",
        "# accuracies_neigh=cross_val_score(estimator=classifier_neighbor,X=X_train,y=y_train,cv=10)\n",
        "# accuracies_neigh"
      ],
      "execution_count": 0,
      "outputs": []
    },
    {
      "cell_type": "code",
      "metadata": {
        "id": "gyMu_tEW1zPE",
        "colab_type": "code",
        "outputId": "b0bba2c7-89c8-49ed-9032-21451ac0b5c9",
        "colab": {
          "base_uri": "https://localhost:8080/",
          "height": 34
        }
      },
      "source": [
        "X_train.shape"
      ],
      "execution_count": 0,
      "outputs": [
        {
          "output_type": "execute_result",
          "data": {
            "text/plain": [
              "(27700, 9103)"
            ]
          },
          "metadata": {
            "tags": []
          },
          "execution_count": 52
        }
      ]
    },
    {
      "cell_type": "code",
      "metadata": {
        "id": "uRvLYWZJ-9Gu",
        "colab_type": "code",
        "outputId": "a1f28130-dd7d-424e-d10e-e81a37d54744",
        "colab": {
          "base_uri": "https://localhost:8080/",
          "height": 34
        }
      },
      "source": [
        "y_train.shape"
      ],
      "execution_count": 0,
      "outputs": [
        {
          "output_type": "execute_result",
          "data": {
            "text/plain": [
              "(27700,)"
            ]
          },
          "metadata": {
            "tags": []
          },
          "execution_count": 53
        }
      ]
    },
    {
      "cell_type": "code",
      "metadata": {
        "id": "9TZXTxrd_ASE",
        "colab_type": "code",
        "colab": {}
      },
      "source": [
        "dim =  9103\n",
        "samples = 27700"
      ],
      "execution_count": 0,
      "outputs": []
    },
    {
      "cell_type": "markdown",
      "metadata": {
        "id": "nusVb7J-pEdn",
        "colab_type": "text"
      },
      "source": [
        "\n",
        "\n",
        "```\n",
        "Let's apply Neural Network using Keras and Tensorflow with 3 layers and Rectified Linear Unit Rectifier.\n",
        "```\n",
        "\n"
      ]
    },
    {
      "cell_type": "code",
      "metadata": {
        "id": "oIjCAB-o_Ihw",
        "colab_type": "code",
        "outputId": "44006dd2-72ff-467b-e297-48bfb77f3628",
        "colab": {
          "base_uri": "https://localhost:8080/",
          "height": 34
        }
      },
      "source": [
        "\n",
        "from numpy import concatenate\n",
        "from matplotlib import pyplot\n",
        "import sklearn\n",
        "from sklearn.preprocessing import MinMaxScaler\n",
        "from sklearn.metrics import mean_squared_error\n",
        "from keras.models import Sequential\n",
        "from keras.layers import Dense, Dropout\n",
        "from keras.layers import LSTM\n",
        "from keras.callbacks import Callback\n",
        "from keras.models import Sequential\n",
        "from keras.layers import LSTM, Dense, Activation\n",
        "import pickle\n",
        "import matplotlib.pyplot as plt\n",
        "from mpl_toolkits.mplot3d import Axes3D\n",
        "import sys\n",
        "from queue import Queue\n",
        "import json\n",
        "%matplotlib inline"
      ],
      "execution_count": 0,
      "outputs": [
        {
          "output_type": "stream",
          "text": [
            "Using TensorFlow backend.\n"
          ],
          "name": "stderr"
        }
      ]
    },
    {
      "cell_type": "code",
      "metadata": {
        "id": "2ti3ng2Q_UOK",
        "colab_type": "code",
        "colab": {}
      },
      "source": [
        "class LossHistory(Callback):\n",
        "    def on_train_begin(self, logs={}):\n",
        "        self.losses = []\n",
        "\n",
        "    def on_batch_end(self, batch, logs={}):\n",
        "        sys.stdout.write(str(logs.get('loss'))+str(', '))\n",
        "        sys.stdout.flush()\n",
        "        self.losses.append(logs.get('loss'))\n",
        "        \n",
        "lr = LossHistory()"
      ],
      "execution_count": 0,
      "outputs": []
    },
    {
      "cell_type": "code",
      "metadata": {
        "id": "30s4ofuP_gIo",
        "colab_type": "code",
        "colab": {}
      },
      "source": [
        "number_of_neurons_layer1 = 9103\n",
        "number_of_neurons_layer2 = 600\n",
        "number_of_neurons_layer3 = 6\n",
        "number_of_epochs = 20\n"
      ],
      "execution_count": 0,
      "outputs": []
    },
    {
      "cell_type": "code",
      "metadata": {
        "id": "cMA6ROsa_gXW",
        "colab_type": "code",
        "colab": {}
      },
      "source": [
        "# design network\n",
        "from keras import optimizers\n",
        "sgd = optimizers.SGD(lr=0.01, clipnorm=1.)\n",
        "\n",
        "model = Sequential()\n",
        "model.add(Dense(number_of_neurons_layer1,input_shape=(dim, ), activation='relu'))\n",
        "model.add(Dense(number_of_neurons_layer2, activation='relu'))\n",
        "model.add(Dense(number_of_neurons_layer3, activation='relu'))\n",
        "model.compile(loss='sparse_categorical_crossentropy', optimizer=sgd)\n",
        "\n",
        "def train(data,label):\n",
        "    model.fit(data, label, epochs=number_of_epochs, batch_size=256, validation_data=(data, label), verbose=0, shuffle=True,callbacks=[lr])\n",
        "\n",
        "def score(data):\n",
        "    return model.predict(data)"
      ],
      "execution_count": 0,
      "outputs": []
    },
    {
      "cell_type": "code",
      "metadata": {
        "id": "7I3S-xm-AtgD",
        "colab_type": "code",
        "outputId": "e1d7c160-492e-4057-c4ca-1a687954ba7b",
        "colab": {
          "base_uri": "https://localhost:8080/",
          "height": 34
        }
      },
      "source": [
        "print(X_train.shape,y_train.shape)"
      ],
      "execution_count": 0,
      "outputs": [
        {
          "output_type": "stream",
          "text": [
            "((27700, 9103), (27700,))\n"
          ],
          "name": "stdout"
        }
      ]
    },
    {
      "cell_type": "code",
      "metadata": {
        "id": "SmmCYNjUGt4u",
        "colab_type": "code",
        "colab": {}
      },
      "source": [
        "features=X_train\n",
        "label=y_train\n"
      ],
      "execution_count": 0,
      "outputs": []
    },
    {
      "cell_type": "code",
      "metadata": {
        "id": "qlJ75oDgA8w9",
        "colab_type": "code",
        "outputId": "74ddb75a-0998-4da2-d9e9-766facc799f4",
        "colab": {
          "base_uri": "https://localhost:8080/",
          "height": 54
        }
      },
      "source": [
        "train(features,label)"
      ],
      "execution_count": 0,
      "outputs": [
        {
          "output_type": "stream",
          "text": [
            "8.5258045, 8.184097, 7.2915335, 6.9078884, 5.6541486, 5.1006827, 4.56131, 4.084955, 3.8280861, 3.748164, 3.5799592, 2.5998683, 2.4458306, 2.5780559, 2.2645564, 2.5102644, 2.0946822, 2.4690104, 1.7331532, 2.0524464, 1.8227752, 1.9436212, 1.1689336, 1.5928175, 1.6468891, 1.6298068, 1.960252, 1.7548585, 1.6995296, 1.6998484, 1.6299759, 1.4734762, 1.8579085, 1.5938057, 1.7101812, 1.6752429, 1.5659293, 1.8147506, 1.7456715, 1.8948585, 1.645361, 1.8150111, 1.9722674, 1.7463503, 1.5922841, 2.114231, 1.5640359, 1.6632743, 1.7854948, 1.565623, 2.060598, 1.7047925, 1.3777041, 1.5891597, 1.3140662, 1.8357993, 1.6192894, 1.6489757, 1.572437, 1.6323631, 1.5308151, 1.8871567, 1.873529, 1.7532512, 1.3909178, 1.4482514, 1.7468188, 1.4928079, 2.3479223, 2.1552858, 1.9924018, 1.9408281, 1.9204196, 1.8076015, 1.7967987, 2.0182376, 1.7293916, 1.9840852, 1.3165224, 1.78848, 1.7174362, 2.01023, 1.5203681, 1.5112995, 1.3626155, 1.2245438, 1.9457524, 1.3456028, 1.3970044, 1.7493469, 1.3453664, 1.703524, 1.3600445, 2.0950792, 2.3149533, 1.5441432, 1.568026, 1.7070873, 1.7858343, 1.5377723, 1.5429611, 1.9555014, 1.4839411, 2.2053661, 1.9944954, 2.6154518, 1.8429831, 1.8003052, 1.8726304, 1.5966613, 1.4939398, 1.7040855, 2.126123, 1.9973586, 2.0370092, 1.66488, 1.7345195, 1.5724883, 2.1641488, 1.2921883, 1.3547144, 1.7305067, 1.5304258, 2.116333, 2.1785896, 1.5331917, 2.2794185, 1.9766889, 1.9019833, 0.93858546, 1.2917974, 1.8755074, 1.6165487, 2.2004862, 1.2883319, 1.6995386, 1.3988018, 1.4988003, 1.793642, 2.009448, 1.6024814, 1.7602122, 1.7232759, 1.9242376, 1.1771966, 1.8677825, 2.3190217, 1.6959878, 2.1818266, 1.3482203, 1.5200182, 1.6267242, 1.8947394, 1.5217867, 1.7080117, 1.9064343, 1.9183877, 2.0190887, 1.3561254, 1.4493737, 0.9534185, 1.6945641, 2.0018744, 1.6522942, 1.4893945, 1.5463707, 1.9039757, 1.5981491, 1.996804, 1.8083761, 1.3498344, 1.738767, 1.9625163, 2.553748, 1.7773399, 1.7689714, 1.9201468, 1.8386834, 2.004779, 2.4082465, 2.061111, 1.6236444, 1.5863705, 1.8301764, 1.5306184, 1.514966, 1.5880164, 1.4261842, 1.7931381, 1.556042, 1.5160226, 1.5817875, 1.3131664, 1.4089811, 1.5659006, 1.7429214, 1.3934278, 1.5501993, 1.671243, 1.8192799, 1.718369, 1.9351499, 1.7343423, 1.8998051, 1.6188685, 1.9520656, 1.8258967, 1.8694506, 2.0667603, 1.6302736, 1.2903235, 1.6439476, 1.1660895, 1.8775961, 1.5247259, 1.9016864, 2.2471404, 1.566496, 1.539315, 1.3638626, 1.8467422, 1.5437189, 1.284548, 1.994868, 2.2895236, 1.8155804, 1.7647258, 1.5549852, 1.5463024, 2.0882895, 1.4092112, 1.73805, 1.4545485, 1.9407237, 1.3813376, 1.7925107, 1.1757811, 1.7119677, 1.9849093, 1.9433914, 1.6347964, 2.1344635, 1.4399323, 1.2901934, 1.5834066, 1.4886028, 1.5192449, 1.0895288, 1.7286918, 1.8129289, 1.5050142, 1.7146698, 2.0651765, 1.907387, 1.5132825, 1.7653322, 1.7634563, 1.8632019, 1.3619517, 1.5313644, 1.6813107, 1.5774288, 1.8237524, 1.2869192, 1.5642784, 1.7124343, 1.8502789, 1.5271825, 1.8369969, 1.2676024, 1.4845698, 1.504506, 2.1463947, 1.7257034, 1.5906651, 1.5459466, 1.8420742, 1.889895, 1.8515928, 1.8680103, 1.5685709, 1.61457, 1.6038954, 2.0311084, 1.5642221, 1.5949576, 1.8833072, 1.9654737, 1.7247138, 1.8779293, 1.9822913, 1.8226738, 1.8581818, 1.7386751, 1.7224013, 1.184197, 1.8642106, 1.6715975, 1.8286684, 1.6707358, 1.4691173, 2.07136, 1.5208905, 1.9787132, 1.2281624, 1.6868305, 1.3196661, 1.5621339, 2.0666413, 1.691801, 1.5435519, 1.7586446, 2.077101, 2.757381, 1.9575402, 2.3945801, 1.2338669, 1.4799191, 1.8913305, 1.4359732, 2.0427003, 1.1543238, 1.7346289, 1.3777484, 1.6486666, 1.4719656, 0.86952025, 2.0551276, 2.0601668, 1.6437095, 2.041879, 1.753404, 1.881149, 1.8472435, 1.473747, 1.654737, 1.7487715, 1.5169508, 1.445727, 1.9175783, 1.3997099, 1.7486925, 1.6081549, 1.9213897, 1.6417755, 1.0915182, 1.631033, 1.8466116, 1.6636586, 1.7877892, 1.8249094, 1.8218763, 1.5824757, 1.6461735, 1.7321589, 1.24399, 1.9578716, 1.1023195, 1.5271454, 1.6797547, 1.8703766, 1.5899034, 1.4659284, 1.5208371, 1.7202485, 1.4125913, 2.020593, 1.4870765, 1.8285761, 1.7012976, 1.6901908, 1.469511, 1.744578, 1.9154365, 1.9829855, 1.5713787, 1.3454095, 1.9009986, 1.785034, 1.4858229, 1.8284081, 1.9412229, 1.6302967, 1.8300338, 1.5335377, 1.7771213, 1.1763631, 1.1855452, 1.6760993, 1.9470358, 1.4883645, 1.6145968, 1.6735654, 1.2963054, 1.6114595, 1.896241, 2.19703, 2.2185993, 1.4350718, 1.9723346, 1.5908618, 2.0465987, 1.7027684, 1.5783896, 2.2015314, 1.5678809, 1.8496745, 1.5125968, 1.5545831, 1.5777928, 1.4203992, 1.5733926, 1.4221888, 1.4762276, 1.8289475, 1.8468844, 1.7259121, 1.9149448, 1.6060567, 1.575263, 1.452893, 1.7135885, 1.8083798, 1.4352837, 1.1418335, 1.2493051, 1.802695, 1.7205312, 1.4022048, 1.6850798, 1.6897104, 1.2488041, 1.657207, 1.3904967, 1.5572042, 1.581716, 1.1767514, 1.5589539, 1.910161, 1.0218492, 1.501143, 1.692881, 1.5073986, 1.630568, 1.7474806, 1.6673515, 1.9186627, 1.4428921, 2.234335, 1.285156, 1.874278, 1.8096068, 1.6147525, 1.9425087, 1.7059187, 1.6236494, 1.6964542, 1.681104, 1.8263091, 2.3505292, 1.8401015, 1.5821288, 1.5884818, 1.7081907, 1.3562604, 1.529736, 1.4781666, 1.6379142, 1.6028973, 1.9091376, 1.3560382, 1.5167319, 1.7913407, 1.8063762, 1.7218262, 1.6742436, 2.1359608, 2.1653988, 1.4195061, 1.5990455, 1.2494508, 1.838228, 1.3754275, 1.5552688, 1.9142485, 1.0165989, 1.766561, 1.5584278, 1.544951, 1.7869414, 1.8730569, 1.8867466, 1.5228788, 2.156806, 1.1167444, 1.3500488, 1.8694861, 1.4198847, 1.6198908, 1.6742022, 1.5748715, 1.341197, 1.9627209, 1.4190841, 1.3286058, 1.3553637, 1.5879121, 1.3682349, 1.7580254, 1.606753, 1.9857398, 1.90727, 1.3921406, 1.9246262, 1.2866142, 1.4981571, 1.4635367, 1.6995949, 1.7296079, 1.2771676, 1.773556, 1.4771208, 1.548552, 1.4898051, 1.5787058, 1.4387345, 1.932776, 1.1984522, 1.61135, 1.8177562, 1.3860707, 1.2064753, 1.411747, 1.9532125, 1.6906064, 1.3257716, 2.4644504, 1.850638, 1.9630785, 1.5890659, 1.4521067, 1.4209988, 1.7132182, 1.66874, 1.3992921, 1.3149315, 1.1657203, 1.6890756, 1.5096122, 1.7080659, 1.6003046, 1.9666805, 1.4182373, 1.529531, 1.4302297, 1.2211968, 1.2366576, 1.339469, 1.7977706, 1.7539008, 1.6273946, 1.5102445, 1.4590902, 1.3859723, 1.5155413, 1.7724202, 1.8620532, 1.6552782, 1.5697109, 1.4229225, 1.6613617, 1.572442, 1.7141728, 1.4153476, 1.805263, 1.8353238, 2.4097717, 1.5090846, 1.3667753, 1.1896605, 1.5910492, 1.3615543, 1.5575156, 1.826746, 1.5568712, 1.4493061, 1.7713675, 1.8197167, 1.6081685, 1.9637576, 1.6870492, 1.7730424, 1.4059404, 2.0435526, 1.9529005, 1.1995368, 1.3907505, 1.1461005, 1.9759117, 2.0656822, 1.6994898, 1.3619187, 1.3385713, 1.6408534, 1.5006902, 1.5823212, 1.3811052, 1.0769045, 1.2505982, 1.6054447, 1.4690205, 1.3761163, 1.3985081, 1.4169704, 1.6079202, 1.5535522, 1.8505588, 1.9586468, 1.7535048, 1.7684605, 1.5431569, 1.5966421, 1.8718233, 1.3375041, 1.4310648, 1.3521395, 1.9206902, 1.7493616, 1.7403467, 1.7270627, 2.2949197, 1.7218279, 1.6850214, 1.774307, 1.5076146, 1.9901116, 1.9062874, 1.6021881, 1.0863951, 1.2292802, 1.5593057, 1.4428482, 1.5327045, 1.2656085, 1.0754962, 1.816555, 1.5192294, 1.4520147, 1.385105, 1.6678748, 1.9973242, 1.5754387, 1.5096388, 1.8877015, 1.5057997, 1.7232382, 1.2303923, 1.4363489, 1.4722782, 1.9484891, 1.4520649, 1.6131786, 1.4806633, 1.4308324, 1.4387457, 1.6297024, 1.7596815, 1.3049207, 1.1694771, 1.7919015, 1.3308296, 1.2673457, 1.2658828, 1.2975342, 1.6997554, 1.7256086, 1.4615796, 1.8235102, 1.46368, 1.3690579, 1.2766438, 1.9283621, 1.053074, 1.4856048, 1.7362796, 1.6719177, 1.5281276, 1.5851295, 1.815544, 2.074634, 1.743706, 1.4373472, 1.6020876, 1.7377638, 1.7801129, 1.8391017, 1.8650076, 1.2395585, 1.0962276, 1.4320629, 1.6376479, 1.8548245, 1.4875827, 1.2287068, 1.4279554, 1.6355937, 1.7992541, 1.6436987, 1.4565332, 1.1967411, 1.6924503, 1.6715403, 1.4485439, 1.7100594, 1.8041866, 2.0954776, 1.0143106, 1.6008794, 1.4910396, 1.7193799, 1.7019215, 1.2668793, 1.3838154, 1.7598498, 1.585673, 1.6620538, 1.996227, 1.5532839, 1.2582253, 1.7461193, 1.2802287, 1.454545, 1.7368739, 1.6744361, 1.4444822, 1.580934, 1.7746401, 1.9696901, 1.1726587, 1.3159721, 1.1634133, 1.7945276, 1.53663, 1.2405074, 1.3001652, 0.96814096, 2.0048113, 1.8290713, 1.4057541, 1.7631553, 1.5718435, 1.873272, 1.5727072, 1.3815601, 1.5461617, 1.7769911, 1.6333164, 1.8156326, 1.8267355, 1.3602929, 1.5920703, 1.1269169, 2.2253401, 1.5829673, 1.3663459, 1.6141157, 1.6638682, 1.5055358, 1.463389, 1.4267893, 1.7134578, 1.6377482, 1.147533, 1.2595382, 1.809478, 1.522742, 1.4672358, 1.7109729, 1.6339357, 1.2505817, 1.0898881, 1.5039462, 2.2290282, 1.7190824, 1.6731993, 1.2016375, 1.4670029, 1.1590973, 1.4797199, 1.3118432, 1.7385223, 1.2924314, 1.5218115, 1.4182277, 1.7086654, 1.7776127, 1.707796, 1.3196043, 1.469116, 1.3158429, 1.369296, 1.7499799, 1.5744791, 1.9620903, 1.4454057, 1.3117768, 1.5386038, 1.2258162, 1.8380492, 1.4851363, 1.217145, 1.5418404, 1.7676966, 1.466832, 1.6315582, 1.3061241, 1.4197648, 1.2535944, 1.4354566, 1.1836531, 2.1313224, 1.4639437, 1.5794408, 1.0468438, 1.4203997, 1.5581512, 1.7604163, 1.5428053, 1.3876098, 1.5756655, 1.6228579, 1.8808208, 1.4458723, 1.6597233, 1.4820192, 1.3180156, 1.0933219, 1.5968277, 1.580977, 1.9629302, 1.5039668, 1.8543293, 1.4305271, 1.4350734, 1.8711264, 1.5852454, 1.2757635, 1.6463847, 1.3252265, 1.4539196, 1.5017018, 1.6751817, 1.4467466, 1.3840433, 1.44572, 1.5692538, 1.4305604, 1.5537618, 1.7264967, 1.4183977, 1.7669778, 1.4213111, 1.7876348, 1.5136362, 0.9901008, 1.5152901, 1.9294834, 1.4276328, 1.6478565, 1.1158035, 1.3003507, 1.4022028, 1.1503634, 0.92946434, 1.2598189, 1.4700274, 1.0949445, 1.0211821, 1.6815894, 1.346025, 1.7261202, 1.4694229, 1.4104749, 1.2596124, 1.3600966, 1.7326534, 1.9585598, 1.7268221, 1.4404417, 1.5731525, 1.5678246, 1.3666848, 1.2912165, 1.4200287, 1.289639, 1.4652101, 1.6362951, 1.5828505, 1.5423388, 1.5469204, 1.6428868, 1.656187, 1.489902, 1.6930285, 1.6095154, 1.6080954, 1.3565371, 1.5609057, 1.4124098, 1.6381322, 1.268361, 1.4543931, 1.2823302, 1.8526957, 1.8257334, 1.732442, 1.4555864, 1.7051182, 1.4191618, 1.2976905, 1.5260375, 1.6922923, 1.326584, 1.6455778, 1.3695945, 1.2787097, 1.295516, 1.6705238, 1.5693567, 1.3551507, 1.3132718, 1.5480783, 1.1297679, 1.6413045, 1.0950468, 1.5769684, 1.2735456, 1.1188588, 1.7849679, 1.003846, 1.1531839, 1.5958316, 1.1464078, 1.3625518, 1.2524487, 1.0781579, 1.5781494, 1.7201757, 1.5987967, 1.3506048, 1.5472637, 1.3443413, 1.2304995, 1.2501934, 1.5835315, 1.0642412, 1.3814454, 1.3146864, 1.2526335, 1.4181433, 1.0772171, 1.4211535, 1.4476976, 1.3546569, 1.6740943, 1.6445446, 1.761759, 1.6294558, 1.583281, 1.3748395, 0.9379678, 1.667358, 1.3359362, 1.4052818, 1.6034609, 1.8547242, 1.5775473, 1.9240866, 1.1431532, 2.02775, 1.5930022, 0.62245536, 1.3063462, 1.77705, 1.8912536, 1.4552737, 1.2951705, 1.3894621, 1.0897205, 1.5030137, 1.3450487, 1.4652122, 1.529562, 1.5196816, 1.6008482, 1.4431727, 1.1381013, 1.2562146, 1.4742776, 1.8871752, 1.0996245, 1.0392948, 1.2672337, 1.1198999, 1.318608, 1.516552, 1.4793673, 1.2125403, 1.6250141, 1.3034602, 1.4555728, 1.256081, 1.3061671, 1.3089015, 1.3604949, 1.5027902, 1.5577016, 1.4743686, 1.7429788, 1.1977065, 1.7690554, 1.4626808, 1.160969, 1.7239876, 1.1697192, 1.7504249, 1.4757127, 1.2837925, 1.5305631, 1.2275043, 1.3031092, 1.5601025, 1.4153723, 1.0495862, 1.4725891, 1.3391078, 1.0016867, 1.5562621, 1.2575728, 1.3252141, 1.651079, 1.5180442, 0.8533126, 1.5165958, 1.0834262, 1.3982003, 1.5660741, 1.1343222, 1.2239978, 1.3762932, 1.3285103, 1.6935817, 1.7653285, 1.4838772, 1.5752294, 1.4305198, 1.166131, 1.4576385, 1.6761134, 1.4201727, 1.4302869, 1.5553193, 1.4478408, 1.5529183, 1.0348232, 1.3669499, 1.3046658, 1.3503089, 1.1340959, 1.6668334, 1.2742882, 1.5618825, 1.150719, 1.5778055, 1.6410676, 1.2096906, 1.5492017, 1.3111548, 1.2588534, 1.0993707, 1.7963959, 1.522184, 1.4443916, 1.6044517, 1.3194194, 1.1875478, 2.0222542, 1.5515844, 1.3773588, 0.7490851, 1.0468773, 1.4340116, 1.3411884, 1.3603846, 0.9845861, 1.3481169, 1.7671962, 1.28107, 1.6150788, 1.4077425, 1.3480054, 1.4572059, 1.3008721, 0.90757877, 1.3229072, 1.3280009, 1.8444406, 1.547864, 1.0460305, 0.96390337, 1.3497605, 1.4860872, 1.2978059, 1.2911341, 1.303539, 1.6551027, 1.1937206, 1.3717375, 1.2667891, 1.1365889, 1.8393228, 1.3657781, 1.3998771, 1.2635072, 1.203515, 1.392731, 1.7077863, 1.570801, 1.5146182, 1.1386745, 1.2441316, 1.0505352, 1.3591768, 1.6457788, 1.1308703, 1.7604771, 1.3267293, 1.1298583, 1.6451836, 1.4409761, 1.5234339, 0.9864363, 1.4976771, 1.6396378, 1.3492944, 1.4170648, 1.4657815, 1.1246252, 1.4934678, 1.5487056, 1.1136757, 1.7256677, 1.334218, 1.0064596, 1.3489676, 1.654545, 1.6754196, 1.2728057, 1.5420599, 1.3104601, 1.5715716, 1.6986578, 1.2908413, 1.2964308, 1.4484144, 1.2772384, 1.9777405, 1.846046, 1.1787992, 1.6278852, 1.5773745, 1.1411018, 1.4637172, 1.5652204, 1.414042, 1.5316639, 1.1830719, 1.395448, 1.3397052, 1.3892504, 1.2572262, 1.480061, 0.93270785, 1.3407546, 1.1507514, 1.553733, 1.5557442, 1.0445466, 1.3032535, 1.7302866, 1.5783162, 1.7644883, 1.3637117, 1.3242075, 1.5696137, 0.97341704, 1.3775287, 1.5281235, 1.4224129, 1.2967905, 1.2865708, 1.2691642, 1.3535011, 1.2372639, 1.1592311, 1.8578783, 1.4516232, 1.0997878, 1.2777677, 1.4260643, 1.3068421, 1.3990557, 1.4924147, 1.623642, 1.6023167, 1.7934883, 1.7018772, 1.3997407, 1.1764858, 1.7009442, 1.3369855, 1.9905133, 1.7368572, 1.3904803, 1.3663805, 1.5237583, 1.7315209, 1.2758013, 1.3039265, 1.861675, 1.4792789, 1.2926039, 1.0827975, 1.3594632, 1.126173, 1.2411432, 0.93319684, 1.4169471, 1.4305979, 1.3803158, 1.2151985, 1.2309303, 1.3744345, 1.1673659, 1.141773, 1.1025798, 1.3041377, 1.1681235, 1.3349297, 1.1100552, 1.0579587, 1.4998329, 1.2717836, 1.6359928, 1.5713155, 1.2371688, 1.4598174, 1.5557796, 1.6770767, 1.1880822, 1.3898664, 1.0940133, 1.5461084, 1.2085639, 1.0774021, 1.0619242, 1.5385821, 1.2816231, 1.5993218, 1.4972093, 1.4946363, 1.9961388, 1.4894879, 1.2780721, 1.7196395, 1.3508716, 1.6959702, 1.4623184, 1.210738, 1.3293158, 1.3468895, 1.3669256, 1.313022, 1.4941173, 1.1381798, 1.3898078, 1.3639312, 1.1972622, 1.1164038, 1.3186542, 1.109228, 1.4401672, 1.4346068, 1.3759115, 1.9790422, 1.4616749, 1.6252887, 1.5735351, 1.3240077, 1.2253363, 1.9151298, 1.6959234, 1.5750108, 1.5916951, 1.1965201, 1.7735229, 1.3288105, 1.5602591, 1.7862785, 1.3184122, 1.8786825, 2.0837808, 1.551342, 1.8268118, 1.3682432, 1.827677, 1.4209658, 1.3348846, 1.8665612, 1.7883806, 1.917775, 1.5790355, 1.0626856, 1.4492216, 1.5206282, 1.5178187, 1.5001956, 1.6376655, 1.4525794, 1.66058, 1.711485, 1.5403721, 1.7531611, 2.0690222, 1.6567192, 1.5667127, 1.4438077, 1.5298302, 1.1510291, 1.5918375, 1.4504764, 1.0525436, 1.3845841, 1.491981, 1.3770325, 1.1524372, 1.319494, 1.1758482, 1.3962524, 1.4133004, 1.4204154, 1.4343326, 1.1263757, 1.3069414, 1.2825463, 1.321393, 1.603468, 1.37117, 1.4475937, 1.6828854, 1.3501091, 1.5225856, 1.3444517, 1.8147218, 1.553253, 1.4919379, 1.501586, 1.0803802, 1.412086, 1.4900689, 1.285969, 1.3495471, 1.5224328, 1.446141, 1.1827537, 0.95323586, 1.5486537, 1.2850586, 1.3313394, 1.2623982, 1.3929377, 1.484835, 1.5181384, 1.176069, 1.3544246, 1.5208771, 1.672619, 1.3204434, 1.3870486, 1.4824829, 1.6371336, 1.4589138, 1.5390878, 1.1441011, 1.6498734, 1.7301477, 1.5179083, 1.4286655, 1.6229467, 1.5847464, 1.648756, 1.1676198, 1.4626949, 1.412097, 1.4598345, 0.9924875, 1.4131426, 1.2288107, 1.3369577, 1.543958, 1.344009, 1.1502032, 1.4364665, 2.1010466, 1.5630505, 1.4579966, 1.0462012, 1.650879, 1.4859277, 1.2344985, 1.2250876, 1.377428, 1.3282464, 1.2190719, 1.6100122, 1.8274883, 1.3140746, 1.4009082, 1.4497974, 1.1889784, 1.1774191, 1.3484061, 1.1005663, 1.4956834, 1.1560028, 1.5240048, 1.2163272, 1.6030858, 1.3868812, 1.5119807, 1.1724032, 1.3087869, 1.4421355, 1.3432012, 1.6268613, 1.358799, 1.196577, 0.9423553, 1.5607625, 1.481019, 1.400435, 1.7101586, 1.3739783, 1.2649386, 1.2194507, 0.98113704, 1.4842017, 1.1251593, 1.1060236, 1.3343465, 1.3930371, 1.0858499, 1.4465382, 1.4244118, 1.5452397, 1.441735, 1.1061072, 1.1998321, 1.4397836, 1.4032366, 1.4986467, 1.4994576, 1.0742835, 1.4107827, 1.4943366, 1.3921952, 1.3432733, 1.238105, 1.3026841, 1.3810675, 1.3488925, 1.5196168, 1.418658, 1.6025558, 1.4995806, 1.3463897, 1.4153476, 1.5892522, 1.6140124, 1.5254456, 1.7170117, 1.3027009, 1.7172277, 1.5958542, 1.5745965, 1.5481968, 1.5328355, 1.4502665, 1.7610605, 1.4289906, 1.534816, 1.2812556, 1.2459841, 1.208879, 1.3330314, 1.062083, 1.0061706, 1.2939591, 1.1775134, 1.3681889, 1.2702112, 1.369376, 1.5289643, 1.7049748, 1.5474088, 1.5886176, 1.4335659, 1.307661, 1.5759834, 1.5881226, 1.5335944, 1.660599, 1.2619116, 1.4237521, 1.4955246, 1.6836725, 1.4317079, 1.6002915, 1.9958539, 1.6541855, 1.6317353, 1.2682118, 1.5425596, 1.1571028, 1.2776763, 1.2494806, 1.2978234, 1.3468189, 1.2782547, 0.9931685, 1.1963074, 1.4661734, 1.7047033, 1.5089402, 1.4424939, 1.2508211, 1.2249055, 1.3353982, 1.2366171, 1.2188514, 1.6474195, 1.173678, 1.7138104, 1.4903052, 1.3170477, 1.1110504, 1.2258326, 1.2568243, 1.3423555, 1.174392, 1.0502223, 1.2592984, 1.1204771, 1.2781917, 1.2110021, 1.2401328, 1.3614757, 1.1527447, 1.6308041, 1.5497279, 1.4620814, 1.5819387, 1.2655988, 1.3884236, 1.37561, 1.3883917, 1.4089231, 1.4861903, 1.426938, 1.8223102, 1.752391, 1.8244371, 1.5987258, 1.2523813, 1.4716895, 1.4416785, 2.049828, 1.5469909, 1.5242207, 1.6421167, 1.9407756, 1.3882898, 1.777641, 1.4005353, 1.7430031, 1.17894, 1.6153063, 1.2209826, 1.3085356, 1.3646684, 1.4559941, 1.3773532, 1.4626918, 2.0877614, 1.6558565, 1.5013385, 1.6948392, 1.8974763, 2.1039524, 2.0395765, 1.7503124, 1.7736325, 1.3356545, 1.5096791, 1.860182, 1.5608492, 1.4264715, 1.3103461, 1.4356897, 1.552711, 1.7622364, 1.4038556, 1.4251676, 1.2297516, 1.3952622, 1.3527853, 1.3507751, 1.467803, 1.4901501, 1.3510342, 1.542762, 1.7986861, 1.3476206, 1.7884648, 1.5996019, 1.7704438, 1.6450093, 1.7271482, 1.6837252, 1.6114677, 1.5910017, 1.7168953, 1.4873922, 1.9028661, 1.6136059, 1.6671832, 1.3385875, 1.8593023, 1.5142124, 1.344913, 1.156994, 1.2414252, 1.5236877, 1.5850925, 1.4650357, 1.7838702, 1.7817857, 1.6955705, 1.4477539, 1.6980278, 1.6858245, 1.5981817, 1.3499565, 1.3828366, 1.212838, 1.7065797, 1.3555102, 1.6396468, 1.6523238, 1.5230883, 1.7296958, 1.7290702, 1.7804601, 1.9264891, 1.9810251, 1.3959917, 1.7035255, 1.648567, 1.6452196, 1.7201468, 1.7960458, 1.7465023, 1.546635, 1.7876258, 1.5386431, 1.5653586, 1.2422346, 1.3462175, 1.4254203, 1.4722342, 1.5344899, 1.5857747, 1.4340525, 1.1452367, 1.7126573, 1.7041652, 1.3572392, 1.4373517, 1.1964644, 1.2744167, 1.1455014, 1.4220927, 1.2532606, 1.2697763, 1.3211056, 1.3010404, 1.4364614, 1.3472149, 1.3463094, 1.4985306, 1.5911126, 1.2680888, 1.645261, 1.1036961, 1.1347322, 1.487406, 1.6377468, 1.1994054, 1.346435, 1.5105946, 1.7404144, 1.4255414, 1.4895927, 1.4105804, 1.525187, 1.5880225, 1.4805219, 1.4137564, 1.5107048, 1.5470364, 1.8283894, 1.479829, 1.6203692, 1.3959956, 1.5092491, 1.2530484, 1.5905236, 1.5329115, 1.5285958, 1.4858022, 1.6237168, 1.5680635, 1.4037642, 1.0764903, 1.245395, 1.3343639, 1.6036317, 1.2647479, 1.3466029, 1.4530354, 1.7347567, 1.3930498, 1.6787565, 1.6320026, 1.6775953, 1.9655007, 1.7649586, 2.1004052, 1.4931366, 1.607796, 1.5498264, 1.356821, 1.6897724, 1.9242265, 1.4999081, 1.4112095, 1.4856585, 1.389703, 1.779083, 1.5011358, 1.2532061, 1.4872334, 1.6549793, 1.3899723, 1.4813755, 1.4879804, 1.6094965, 1.5449128, 1.5824621, 1.5107616, 1.518721, 1.4343406, 1.6369385, 1.459167, 1.7810766, 1.5455563, 1.8711216, 1.7200277, 1.8632088, 1.9448638, 2.3855748, 2.2037463, 1.9319975, 2.1927314, 2.0258703, 1.744182, 1.7332034, 2.1053019, 1.909034, 1.9970117, 1.9905478, 1.9403231, 1.8893218, 1.8178394, 1.9009984, 1.8102636, 1.7847605, 1.8778841, 1.7900518, 1.7917595, 1.8579495, 1.8011656, 1.820707, 1.8378534, 1.8235865, 1.8194884, 1.8206769, 1.7917595, 1.7847605, 1.7847605, 1.7917595, 1.7847605, 1.7917595, 1.7917595, 1.8415824, 1.7917595, 1.7917595, 1.8345685, 1.7847605, 1.7917595, 1.7917595, 1.7847605, 1.7917595, 1.7917595, 1.7917595, 1.7917595, 1.784761, 1.7707627, 1.7917595, 1.7917595, 1.7917595, 1.7917595, 1.7873038, 1.7917595, 1.7917595, 1.7917595, 1.7917595, 1.8376448, 1.7917595, 1.7707627, 1.7917595, 1.822653, 1.7573054, 1.7777619, 1.7917595, 1.8457253, 1.7847605, 1.833979, 1.7917595, 1.7847606, 1.7917595, 1.7917595, 1.7917595, 1.7917595, 1.7917595, 1.7917595, 1.7847605, 1.7847619, 1.7917595, 1.7917595, 1.7917595, 1.7917595, 1.7881601, 1.7917595, 1.7917595, 1.7917595, 1.7917595, 1.7917595, 1.7917595, 1.7917595, 1.8588839, 1.7917595, 1.7917595, 1.7917595, 1.7917595, 1.7917595, 1.7847605, 1.7917595, 1.7917595, 1.7847605, 1.7917595, 1.7917595, 1.7917595, 1.7917595, 1.7917595, 1.7917595, 1.7917595, 1.7917595, 1.7917595, 1.7917595, 1.7917595, 1.7917595, 1.7917595, 1.7917595, 1.7917595, 1.872133, 1.7847605, 1.7917595, 1.7917595, 1.7917595, 1.7917595, 1.7847605, 1.7917595, 1.7917595, 1.7917595, 1.7917595, 1.7917595, 1.832953, 1.7917595, 1.7917595, 1.7917595, 1.7917595, 1.7917595, 1.7917595, 1.7917595, 1.7917595, 1.7917595, 1.7917595, 1.7917595, 1.7917595, 1.7917595, 1.7777616, 1.7847605, 1.7917595, 1.7847607, 1.8919121, 1.7917595, 1.7917595, 1.7917595, 1.7917595, 1.7917595, 1.7847605, 1.7917595, 1.7917595, 1.7917595, 1.7917595, 1.7917595, 1.7917595, 1.7917595, 1.7847605, 1.7917595, 1.7917595, 1.7917595, 1.7917595, 1.7917595, 1.7917595, 1.7917595, 1.7917595, 1.7917595, 1.7847605, 1.7917595, 1.7917595, 1.7917595, 1.7847605, 1.7917595, 1.7847607, 1.7917595, 1.7917595, 1.7847605, 1.7917595, 1.7917595, 1.7917595, 1.7847607, 1.7917595, 1.7917595, 1.7917595, 1.7917595, 1.7917595, 1.7917595, 1.7917595, 1.7917595, 1.7917595, 1.7917595, 1.7917595, 1.7917595, 1.7917595, 1.7917595, 1.7917595, 1.7917595, 1.7917595, 1.7917595, 1.7917595, 1.7917595, 1.7917595, 1.7917595, 1.7917595, 1.7917595, 1.7917595, 1.7917595, 1.7917595, 1.7917595, 1.7917595, 1.7917595, 1.7917595, 1.7917595, 1.7917595, 1.7917595, 1.7917595, 1.7917595, 1.7847605, 1.7917595, 1.7917595, 1.7917595, 1.7917595, 1.7917595, 1.7917595, 1.7917595, 1.7917595, 1.7917595, 1.7917595, 1.7917595, 1.7917595, 1.7917595, 1.7917595, 1.7917595, 1.7917595, 1.7917595, 1.7917595, 1.7917595, 1.7917595, 1.7917595, 1.7917595, 1.7917595, 1.7847605, 1.7917595, 1.7917595, 1.7917595, 1.7847606, 1.7847605, 1.7917595, 1.7917595, 1.7917595, 1.7847605, 1.7917595, 1.7917595, 1.7917595, 1.7847605, 1.7847605, 1.7917595, 1.7917595, 1.7917595, 1.7917595, 1.7917595, 1.7917595, 1.7917595, 1.7917595, 1.7917595, 1.7917595, 1.7917595, 1.7917595, 1.7917595, 1.7917595, 1.7917595, 1.7917595, 1.7917595, 1.7917595, 1.8410774, 1.7847605, 1.7847605, 1.7917595, 1.7917595, 1.7917595, 1.7917595, 1.7917595, 1.7847605, 1.7917595, 1.7917595, 1.7917595, 1.7917595, 1.7917595, 1.7847605, 1.7917595, 1.7917595, 1.7917595, 1.7917595, 1.7917595, 1.7917595, 1.7917595, 1.7917595, 1.7917595, 1.7917595, 1.7917595, 1.7917595, 1.7917595, 1.7917595, 1.7917595, 1.7917595, 1.7917595, 1.7917595, 1.7847605, 1.7917595, 1.7917595, 1.7917595, 1.7917595, 1.7917595, 1.7917595, 1.7917595, 1.7917595, 1.7917595, 1.7917595, 1.7917595, 1.7917595, 1.7917595, 1.7917595, 1.7917595, 1.7917595, 1.7917595, 1.7917595, 1.7917595, 1.7917595, 1.7917595, 1.7917595, 1.7917595, 1.7847605, 1.7917595, 1.7917595, 1.7917595, 1.7917595, 1.7917595, 1.7917595, 1.7917595, 1.7917595, 1.7847605, 1.7917595, 1.7917595, 1.7917595, 1.7847612, 1.7917595, 1.7847662, 1.7917595, 1.7917595, 1.7917595, 1.7917595, 1.7917595, 1.7917595, 1.7917595, 1.7917595, 1.7917595, 1.7847605, 1.7917595, 1.7917595, 1.7917595, 1.7917595, 1.7917595, 1.7847605, 1.7917595, 1.7847605, 1.7917595, 1.7917595, 1.7917595, 1.7847605, 1.7917595, 1.7917595, 1.7917595, 1.7917595, 1.7917595, 1.7917595, 1.7917595, 1.7917595, 1.7917595, 1.7917595, 1.7917595, 1.7917595, 1.7917595, 1.7917595, 1.7917595, 1.784761, 1.7917595, 1.7917595, 1.7917595, "
          ],
          "name": "stdout"
        }
      ]
    },
    {
      "cell_type": "code",
      "metadata": {
        "id": "-zTcaYHYBCXE",
        "colab_type": "code",
        "outputId": "25e00bf8-3c42-4583-c8c3-b08a5ff6d4cd",
        "colab": {
          "base_uri": "https://localhost:8080/",
          "height": 461
        }
      },
      "source": [
        "fig, ax = plt.subplots(num=None, figsize=(14, 6), dpi=80, facecolor='y', edgecolor='k')\n",
        "size = len(lr.losses)\n",
        "ax.plot(range(0,size), lr.losses, '-', color='blue', animated = True, linewidth=1)\n",
        "plt.xlabel('no of optmization steps')\n",
        "plt.ylabel('Losses')\n",
        "plt.title('Loss function with Stochastic Gradient Descent Optmization')\n"
      ],
      "execution_count": 0,
      "outputs": [
        {
          "output_type": "execute_result",
          "data": {
            "text/plain": [
              "Text(0.5,1,'Loss function with Stochastic Gradient Descent Optmization')"
            ]
          },
          "metadata": {
            "tags": []
          },
          "execution_count": 92
        },
        {
          "output_type": "display_data",
          "data": {
            "image/png": "[encoded data removed]",
            "text/plain": [
              "<Figure size 1120x480 with 1 Axes>"
            ]
          },
          "metadata": {
            "tags": []
          }
        }
      ]
    },
    {
      "cell_type": "code",
      "metadata": {
        "id": "9xS_SYlL1CE_",
        "colab_type": "code",
        "outputId": "937b7738-1f73-498c-94eb-76b1f1cb0dee",
        "colab": {
          "base_uri": "https://localhost:8080/",
          "height": 34
        }
      },
      "source": [
        "min(lr.losses)"
      ],
      "execution_count": 0,
      "outputs": [
        {
          "output_type": "execute_result",
          "data": {
            "text/plain": [
              "0.62245536"
            ]
          },
          "metadata": {
            "tags": []
          },
          "execution_count": 86
        }
      ]
    },
    {
      "cell_type": "code",
      "metadata": {
        "id": "Bb4B7Cj98DYD",
        "colab_type": "code",
        "colab": {}
      },
      "source": [
        "accuracy=100-min(lr.losses)"
      ],
      "execution_count": 0,
      "outputs": []
    },
    {
      "cell_type": "code",
      "metadata": {
        "id": "baGfr1-p8g-o",
        "colab_type": "code",
        "outputId": "5e1bc6ae-af9c-4015-d0be-c6e6023b91da",
        "colab": {
          "base_uri": "https://localhost:8080/",
          "height": 34
        }
      },
      "source": [
        "accuracy"
      ],
      "execution_count": 0,
      "outputs": [
        {
          "output_type": "execute_result",
          "data": {
            "text/plain": [
              "99.37754464149475"
            ]
          },
          "metadata": {
            "tags": []
          },
          "execution_count": 88
        }
      ]
    },
    {
      "cell_type": "code",
      "metadata": {
        "id": "bLctlsKv8jV2",
        "colab_type": "code",
        "colab": {}
      },
      "source": [
        ""
      ],
      "execution_count": 0,
      "outputs": []
    }
  ]
}